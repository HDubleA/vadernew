{
  "cells": [
    {
      "cell_type": "code",
      "execution_count": null,
      "metadata": {
        "colab": {
          "base_uri": "https://localhost:8080/"
        },
        "id": "mTsA5zu-qt3E",
        "outputId": "df739e96-7250-4141-90c4-fb72a38e343e"
      },
      "outputs": [
        {
          "name": "stdout",
          "output_type": "stream",
          "text": [
            "Drive already mounted at /content/drive; to attempt to forcibly remount, call drive.mount(\"/content/drive\", force_remount=True).\n"
          ]
        }
      ],
      "source": [
        "from google.colab import drive\n",
        "drive.mount('/content/drive')"
      ]
    },
    {
      "cell_type": "code",
      "execution_count": null,
      "metadata": {
        "id": "aYihncSotNNW"
      },
      "outputs": [],
      "source": [
        "filepath = '/content/drive/MyDrive/Progetto Colab/'"
      ]
    },
    {
      "cell_type": "markdown",
      "metadata": {
        "id": "nRF8zAi7oggB"
      },
      "source": [
        "# Dataset import and zero value check"
      ]
    },
    {
      "cell_type": "code",
      "execution_count": null,
      "metadata": {
        "colab": {
          "base_uri": "https://localhost:8080/",
          "height": 424
        },
        "id": "zrD7pcAHoggG",
        "outputId": "27eb0d2c-5b73-422d-b015-d422ff972e4e"
      },
      "outputs": [
        {
          "data": {
            "text/html": [
              "\n",
              "  <div id=\"df-cd988e30-dae8-4198-9b0f-f229abc9acfe\">\n",
              "    <div class=\"colab-df-container\">\n",
              "      <div>\n",
              "<style scoped>\n",
              "    .dataframe tbody tr th:only-of-type {\n",
              "        vertical-align: middle;\n",
              "    }\n",
              "\n",
              "    .dataframe tbody tr th {\n",
              "        vertical-align: top;\n",
              "    }\n",
              "\n",
              "    .dataframe thead th {\n",
              "        text-align: right;\n",
              "    }\n",
              "</style>\n",
              "<table border=\"1\" class=\"dataframe\">\n",
              "  <thead>\n",
              "    <tr style=\"text-align: right;\">\n",
              "      <th></th>\n",
              "      <th>Tipo</th>\n",
              "      <th>Score</th>\n",
              "      <th>Text</th>\n",
              "    </tr>\n",
              "  </thead>\n",
              "  <tbody>\n",
              "    <tr>\n",
              "      <th>0</th>\n",
              "      <td>Finance</td>\n",
              "      <td>Positive</td>\n",
              "      <td>'bout to pas in pps.. im in both '</td>\n",
              "    </tr>\n",
              "    <tr>\n",
              "      <th>1</th>\n",
              "      <td>Finance</td>\n",
              "      <td>Positive</td>\n",
              "      <td>'short toasting very well'</td>\n",
              "    </tr>\n",
              "    <tr>\n",
              "      <th>2</th>\n",
              "      <td>Finance</td>\n",
              "      <td>Negative</td>\n",
              "      <td>'is dead money for the rest of the year a ipho...</td>\n",
              "    </tr>\n",
              "    <tr>\n",
              "      <th>3</th>\n",
              "      <td>Finance</td>\n",
              "      <td>Positive</td>\n",
              "      <td>'already climbing pm.'</td>\n",
              "    </tr>\n",
              "    <tr>\n",
              "      <th>4</th>\n",
              "      <td>Finance</td>\n",
              "      <td>Positive</td>\n",
              "      <td>'how are yall bearish smfh'</td>\n",
              "    </tr>\n",
              "    <tr>\n",
              "      <th>...</th>\n",
              "      <td>...</td>\n",
              "      <td>...</td>\n",
              "      <td>...</td>\n",
              "    </tr>\n",
              "    <tr>\n",
              "      <th>11823</th>\n",
              "      <td>Finance</td>\n",
              "      <td>Positive</td>\n",
              "      <td>'this seems familiar ;)'</td>\n",
              "    </tr>\n",
              "    <tr>\n",
              "      <th>11824</th>\n",
              "      <td>Finance</td>\n",
              "      <td>Positive</td>\n",
              "      <td>'wow!'</td>\n",
              "    </tr>\n",
              "    <tr>\n",
              "      <th>11825</th>\n",
              "      <td>Finance</td>\n",
              "      <td>Negative</td>\n",
              "      <td>'not all stock go up. big pharma company stock...</td>\n",
              "    </tr>\n",
              "    <tr>\n",
              "      <th>11826</th>\n",
              "      <td>Finance</td>\n",
              "      <td>Positive</td>\n",
              "      <td>'bought puts.... for a credit spread '</td>\n",
              "    </tr>\n",
              "    <tr>\n",
              "      <th>11827</th>\n",
              "      <td>Finance</td>\n",
              "      <td>Positive</td>\n",
              "      <td>'august 250 call ate on fire'</td>\n",
              "    </tr>\n",
              "  </tbody>\n",
              "</table>\n",
              "<p>11828 rows × 3 columns</p>\n",
              "</div>\n",
              "      <button class=\"colab-df-convert\" onclick=\"convertToInteractive('df-cd988e30-dae8-4198-9b0f-f229abc9acfe')\"\n",
              "              title=\"Convert this dataframe to an interactive table.\"\n",
              "              style=\"display:none;\">\n",
              "        \n",
              "  <svg xmlns=\"http://www.w3.org/2000/svg\" height=\"24px\"viewBox=\"0 0 24 24\"\n",
              "       width=\"24px\">\n",
              "    <path d=\"M0 0h24v24H0V0z\" fill=\"none\"/>\n",
              "    <path d=\"M18.56 5.44l.94 2.06.94-2.06 2.06-.94-2.06-.94-.94-2.06-.94 2.06-2.06.94zm-11 1L8.5 8.5l.94-2.06 2.06-.94-2.06-.94L8.5 2.5l-.94 2.06-2.06.94zm10 10l.94 2.06.94-2.06 2.06-.94-2.06-.94-.94-2.06-.94 2.06-2.06.94z\"/><path d=\"M17.41 7.96l-1.37-1.37c-.4-.4-.92-.59-1.43-.59-.52 0-1.04.2-1.43.59L10.3 9.45l-7.72 7.72c-.78.78-.78 2.05 0 2.83L4 21.41c.39.39.9.59 1.41.59.51 0 1.02-.2 1.41-.59l7.78-7.78 2.81-2.81c.8-.78.8-2.07 0-2.86zM5.41 20L4 18.59l7.72-7.72 1.47 1.35L5.41 20z\"/>\n",
              "  </svg>\n",
              "      </button>\n",
              "      \n",
              "  <style>\n",
              "    .colab-df-container {\n",
              "      display:flex;\n",
              "      flex-wrap:wrap;\n",
              "      gap: 12px;\n",
              "    }\n",
              "\n",
              "    .colab-df-convert {\n",
              "      background-color: #E8F0FE;\n",
              "      border: none;\n",
              "      border-radius: 50%;\n",
              "      cursor: pointer;\n",
              "      display: none;\n",
              "      fill: #1967D2;\n",
              "      height: 32px;\n",
              "      padding: 0 0 0 0;\n",
              "      width: 32px;\n",
              "    }\n",
              "\n",
              "    .colab-df-convert:hover {\n",
              "      background-color: #E2EBFA;\n",
              "      box-shadow: 0px 1px 2px rgba(60, 64, 67, 0.3), 0px 1px 3px 1px rgba(60, 64, 67, 0.15);\n",
              "      fill: #174EA6;\n",
              "    }\n",
              "\n",
              "    [theme=dark] .colab-df-convert {\n",
              "      background-color: #3B4455;\n",
              "      fill: #D2E3FC;\n",
              "    }\n",
              "\n",
              "    [theme=dark] .colab-df-convert:hover {\n",
              "      background-color: #434B5C;\n",
              "      box-shadow: 0px 1px 3px 1px rgba(0, 0, 0, 0.15);\n",
              "      filter: drop-shadow(0px 1px 2px rgba(0, 0, 0, 0.3));\n",
              "      fill: #FFFFFF;\n",
              "    }\n",
              "  </style>\n",
              "\n",
              "      <script>\n",
              "        const buttonEl =\n",
              "          document.querySelector('#df-cd988e30-dae8-4198-9b0f-f229abc9acfe button.colab-df-convert');\n",
              "        buttonEl.style.display =\n",
              "          google.colab.kernel.accessAllowed ? 'block' : 'none';\n",
              "\n",
              "        async function convertToInteractive(key) {\n",
              "          const element = document.querySelector('#df-cd988e30-dae8-4198-9b0f-f229abc9acfe');\n",
              "          const dataTable =\n",
              "            await google.colab.kernel.invokeFunction('convertToInteractive',\n",
              "                                                     [key], {});\n",
              "          if (!dataTable) return;\n",
              "\n",
              "          const docLinkHtml = 'Like what you see? Visit the ' +\n",
              "            '<a target=\"_blank\" href=https://colab.research.google.com/notebooks/data_table.ipynb>data table notebook</a>'\n",
              "            + ' to learn more about interactive tables.';\n",
              "          element.innerHTML = '';\n",
              "          dataTable['output_type'] = 'display_data';\n",
              "          await google.colab.output.renderOutput(dataTable, element);\n",
              "          const docLink = document.createElement('div');\n",
              "          docLink.innerHTML = docLinkHtml;\n",
              "          element.appendChild(docLink);\n",
              "        }\n",
              "      </script>\n",
              "    </div>\n",
              "  </div>\n",
              "  "
            ],
            "text/plain": [
              "          Tipo     Score                                               Text\n",
              "0      Finance  Positive                 'bout to pas in pps.. im in both '\n",
              "1      Finance  Positive                         'short toasting very well'\n",
              "2      Finance  Negative  'is dead money for the rest of the year a ipho...\n",
              "3      Finance  Positive                             'already climbing pm.'\n",
              "4      Finance  Positive                        'how are yall bearish smfh'\n",
              "...        ...       ...                                                ...\n",
              "11823  Finance  Positive                           'this seems familiar ;)'\n",
              "11824  Finance  Positive                                             'wow!'\n",
              "11825  Finance  Negative  'not all stock go up. big pharma company stock...\n",
              "11826  Finance  Positive             'bought puts.... for a credit spread '\n",
              "11827  Finance  Positive                      'august 250 call ate on fire'\n",
              "\n",
              "[11828 rows x 3 columns]"
            ]
          },
          "execution_count": 25,
          "metadata": {},
          "output_type": "execute_result"
        }
      ],
      "source": [
        "import pandas as pd\n",
        "df = pd.read_excel(filepath+'data/Finance.xlsx')\n",
        "df"
      ]
    },
    {
      "cell_type": "code",
      "execution_count": null,
      "metadata": {
        "colab": {
          "base_uri": "https://localhost:8080/"
        },
        "id": "zX4i6ZQZoggI",
        "outputId": "af79d985-0b85-4425-c64c-442348c3d7a1"
      },
      "outputs": [
        {
          "data": {
            "text/plain": [
              "Tipo     0\n",
              "Score    0\n",
              "Text     0\n",
              "dtype: int64"
            ]
          },
          "execution_count": 26,
          "metadata": {},
          "output_type": "execute_result"
        }
      ],
      "source": [
        "df.isna().sum()"
      ]
    },
    {
      "cell_type": "code",
      "execution_count": null,
      "metadata": {
        "colab": {
          "base_uri": "https://localhost:8080/"
        },
        "id": "G5NnGQggoggJ",
        "outputId": "a1d3f749-8eb6-4fc8-e52b-5685681cf81c"
      },
      "outputs": [
        {
          "data": {
            "text/plain": [
              "Positive    8485\n",
              "Negative    3343\n",
              "Name: Score, dtype: int64"
            ]
          },
          "execution_count": 27,
          "metadata": {},
          "output_type": "execute_result"
        }
      ],
      "source": [
        "df.Score.value_counts()"
      ]
    },
    {
      "cell_type": "markdown",
      "metadata": {
        "id": "RpGX9V0voggK"
      },
      "source": [
        "### NaN remuval and split X and y"
      ]
    },
    {
      "cell_type": "code",
      "execution_count": null,
      "metadata": {
        "colab": {
          "base_uri": "https://localhost:8080/",
          "height": 53
        },
        "id": "s2jgDzteoggL",
        "outputId": "f2fd1300-5ac7-439d-9b2c-9c415482fcce"
      },
      "outputs": [
        {
          "data": {
            "application/vnd.google.colaboratory.intrinsic+json": {
              "type": "string"
            },
            "text/plain": [
              "'23 April 2010 - Finnish construction and engineering company Outotec Oyj HEL : OTE1V said today it slipped to a net loss of EUR7 .3 m in the first quarter of 2010 from a net profit of EUR12 .5 m in the corresponding period last year .'"
            ]
          },
          "execution_count": 28,
          "metadata": {},
          "output_type": "execute_result"
        }
      ],
      "source": [
        "df_not_na = df[~(df['Text'].isna())]\n",
        "raw_text = df_not_na['Text']\n",
        "#assegno i valori alla mia y\n",
        "y = df_not_na['Score'].tolist()\n",
        "raw_text[5]"
      ]
    },
    {
      "cell_type": "markdown",
      "metadata": {
        "id": "F5dHqfz1oggM"
      },
      "source": [
        "### Lowercase, Remove punctuation, Tokenize, Lemmatization"
      ]
    },
    {
      "cell_type": "code",
      "execution_count": null,
      "metadata": {
        "colab": {
          "base_uri": "https://localhost:8080/"
        },
        "id": "GZ-temWpq98c",
        "outputId": "334d05fb-c0be-42c8-b2f7-6c4407c2f759"
      },
      "outputs": [
        {
          "name": "stdout",
          "output_type": "stream",
          "text": [
            "[nltk_data] Downloading package wordnet to /root/nltk_data...\n",
            "[nltk_data]   Package wordnet is already up-to-date!\n"
          ]
        },
        {
          "data": {
            "text/plain": [
              "True"
            ]
          },
          "execution_count": 29,
          "metadata": {},
          "output_type": "execute_result"
        }
      ],
      "source": [
        "import nltk\n",
        "nltk.download('wordnet')"
      ]
    },
    {
      "cell_type": "code",
      "execution_count": null,
      "metadata": {
        "colab": {
          "base_uri": "https://localhost:8080/",
          "height": 53
        },
        "id": "C-Bi0cWtoggN",
        "outputId": "538cc4e9-fa59-4b18-fb7d-3e698941f048"
      },
      "outputs": [
        {
          "name": "stdout",
          "output_type": "stream",
          "text": [
            "['bout', 'to', 'pa', 'in', 'pps', 'im', 'in', 'both']\n"
          ]
        },
        {
          "data": {
            "application/vnd.google.colaboratory.intrinsic+json": {
              "type": "string"
            },
            "text/plain": [
              "'short toasting very well'"
            ]
          },
          "execution_count": 30,
          "metadata": {},
          "output_type": "execute_result"
        }
      ],
      "source": [
        "from tqdm import tqdm\n",
        "from nltk.stem import WordNetLemmatizer\n",
        "lemmatizer = WordNetLemmatizer()\n",
        "\n",
        "text = raw_text.str.lower().str.replace('[^\\w\\s\\d]',' ', regex=True) # \\d tiene anche i caratteri numerici\n",
        "text = text.str.split()\n",
        "text = text.apply(lambda x: [lemmatizer.lemmatize(sent) for sent in x])\n",
        "for row in text:\n",
        "    [row.remove(i) for i in row if len(i) < 2]\n",
        "print(text[0])\n",
        "train_sentences = []\n",
        "for row in text:\n",
        "    train_sentences.append(' '.join([item for item in row ]))\n",
        "train_sentences[1]"
      ]
    },
    {
      "cell_type": "markdown",
      "metadata": {
        "id": "eq358YTtjK0u"
      },
      "source": [
        "### BoW"
      ]
    },
    {
      "cell_type": "code",
      "execution_count": null,
      "metadata": {
        "colab": {
          "base_uri": "https://localhost:8080/"
        },
        "id": "frLhe8IXh9xN",
        "outputId": "be0e66a5-43ea-45ed-cd59-397b653d0ac1"
      },
      "outputs": [
        {
          "name": "stderr",
          "output_type": "stream",
          "text": [
            "/usr/local/lib/python3.7/dist-packages/sklearn/utils/deprecation.py:87: FutureWarning: Function get_feature_names is deprecated; get_feature_names is deprecated in 1.0 and will be removed in 1.2. Please use get_feature_names_out instead.\n",
            "  warnings.warn(msg, category=FutureWarning)\n"
          ]
        }
      ],
      "source": [
        "import numpy as np\n",
        "from sklearn.feature_extraction.text import CountVectorizer, TfidfVectorizer\n",
        "#n_gram da 1 a 1, quindi mono gram, imposto 2000 features, quindi si ferma alle 2000 parole piu frequenti\n",
        "vectorizer = CountVectorizer(ngram_range=(1, 1), max_features=2000)\n",
        "X = vectorizer.fit_transform(train_sentences)\n",
        "\n",
        "#salva in un dizionario i nomi delle features, associando a un codice\n",
        "feature_names = vectorizer.get_feature_names()\n",
        "X = X.toarray()\n",
        "X = np.array(X)\n",
        "y = np.array(y)"
      ]
    },
    {
      "cell_type": "markdown",
      "metadata": {
        "id": "CIbqNLGCsdfW"
      },
      "source": [
        "# Classification Model"
      ]
    },
    {
      "cell_type": "markdown",
      "metadata": {
        "id": "811Aq_lpoggR"
      },
      "source": [
        "### train/test"
      ]
    },
    {
      "cell_type": "code",
      "execution_count": null,
      "metadata": {
        "id": "CWvG9sTnoggS"
      },
      "outputs": [],
      "source": [
        "from sklearn.model_selection import train_test_split\n",
        "\n",
        "x_train, x_test, y_train, y_test = train_test_split(X, y, stratify=y, test_size=0.3, random_state=42)"
      ]
    },
    {
      "cell_type": "markdown",
      "metadata": {
        "id": "ZljvaWdTnTl-"
      },
      "source": [
        "### Grid Search Naive bayes"
      ]
    },
    {
      "cell_type": "code",
      "execution_count": null,
      "metadata": {
        "colab": {
          "base_uri": "https://localhost:8080/",
          "height": 70
        },
        "id": "8JKooBimouGE",
        "outputId": "b6d47e3f-0a34-4577-afbb-3f60d00c9c80"
      },
      "outputs": [
        {
          "data": {
            "application/vnd.google.colaboratory.intrinsic+json": {
              "type": "string"
            },
            "text/plain": [
              "\"\\nfrom sklearn.model_selection import GridSearchCV\\nfrom sklearn.naive_bayes import MultinomialNB\\nparams = {'alpha': [0.01, 0.05, 0.1, 0.2, 0.5, 1.0, 10.0, ],}\\n\\nmultinomial_nb_grid = GridSearchCV(MultinomialNB(), param_grid=params, n_jobs=-1, cv=5, verbose=5)\\nmultinomial_nb_grid.fit(x_train,y_train)\\n\\nprint('Best Accuracy Through Grid Search : %.3f'%multinomial_nb_grid.best_score_)\\nprint('Best Parameters : ',multinomial_nb_grid.best_params_)\\n\""
            ]
          },
          "execution_count": 33,
          "metadata": {},
          "output_type": "execute_result"
        }
      ],
      "source": [
        "#Questa griglia ci permette di determinare i migliori parametri di tuning\n",
        "#Il Naive bayes non è scelto per il progetto\n",
        "# Best Accuracy : 0.853, 'alpha': 1.0 Cibo\n",
        "# Best Accuracy : 0.754, 'alpha': 0.5 Finance\n",
        "# Best Accuracy : 0.861, 'alpha': 10.0 Disneyland\n",
        "# Best Accuracy : 0.855, 'alpha': 10.0 Electronic\n",
        "\n",
        "'''\n",
        "from sklearn.model_selection import GridSearchCV\n",
        "from sklearn.naive_bayes import MultinomialNB\n",
        "params = {'alpha': [0.01, 0.05, 0.1, 0.2, 0.5, 1.0, 10.0, ],}\n",
        "\n",
        "multinomial_nb_grid = GridSearchCV(MultinomialNB(), param_grid=params, n_jobs=-1, cv=5, verbose=5)\n",
        "multinomial_nb_grid.fit(x_train,y_train)\n",
        "\n",
        "print('Best Accuracy Through Grid Search : %.3f'%multinomial_nb_grid.best_score_)\n",
        "print('Best Parameters : ',multinomial_nb_grid.best_params_)\n",
        "'''"
      ]
    },
    {
      "cell_type": "markdown",
      "metadata": {
        "id": "qu7tfe7qsj4C"
      },
      "source": [
        "### Grid Search Random Forest"
      ]
    },
    {
      "cell_type": "code",
      "execution_count": null,
      "metadata": {
        "colab": {
          "base_uri": "https://localhost:8080/",
          "height": 123
        },
        "id": "kWe0W6oCgdgy",
        "outputId": "9886eb5b-eb9c-49e9-e338-dd5697e3ad69"
      },
      "outputs": [
        {
          "data": {
            "application/vnd.google.colaboratory.intrinsic+json": {
              "type": "string"
            },
            "text/plain": [
              "'\\nfrom sklearn.ensemble import RandomForestClassifier\\nfrom sklearn.model_selection import GridSearchCV\\nfrom sklearn import svm\\n\\n#cross_validated_grid_search for Random Forest\\n\\nmodel = RandomForestClassifier()\\nparam_grid = {\\'n_estimators\\': [200, 300],#numero di alberi\\n               \\'criterion\\': [\\'gini\\', \\'entropy\\'],#purezza misurata con gini e entropia\\n               \\'max_depth\\': [None, 5, 10], #profondità massima dell\\'albero\\n               \\'min_samples_split\\': [2, 10, 20]} #Il numero minimo di campioni necessari per dividere un nodo interno\\n\\ngrid = GridSearchCV(estimator = model, param_grid = param_grid, cv=3, verbose=2, n_jobs=-1)#default è accuracy\\n# Fit the random search model\\n%time grid_result = grid.fit(x_train, y_train)\\n\\n#print grid search results\\nprint(\"Best: %f using %s\" % (grid_result.best_score_, grid_result.best_params_))\\nmeans = grid_result.cv_results_[\\'mean_test_score\\']\\nstds = grid_result.cv_results_[\\'std_test_score\\']\\nparams = grid_result.cv_results_[\\'params\\']\\nfor mean, stdev, param in zip(means, stds, params):\\n    print(\"%f (%f) with: %r\" % (mean, stdev, param))\\n'"
            ]
          },
          "execution_count": 34,
          "metadata": {},
          "output_type": "execute_result"
        }
      ],
      "source": [
        "#Utilizzare solo in caso di necessità (tempi molto lunghi)\n",
        "#Questa griglia ci permette di determinare i migliori parametri di tuning\n",
        "#Best: 0.821146 using {'criterion': 'gini', 'max_depth': None, 'min_samples_split': 2, 'n_estimators': 300} Cibo\n",
        "#Best: 0.787776 using {'criterion': 'entropy', 'max_depth': None, 'min_samples_split': 10, 'n_estimators': 200} Finance\n",
        "#Best: 0.821431 using {'criterion': 'gini', 'max_depth': None, 'min_samples_split': 2, 'n_estimators': 300} Disneyland\n",
        "#Best: 0.869970 using {'criterion': 'entropy', 'max_depth': None, 'min_samples_split': 10, 'n_estimators': 300} Electronic\n",
        "'''\n",
        "from sklearn.ensemble import RandomForestClassifier\n",
        "from sklearn.model_selection import GridSearchCV\n",
        "from sklearn import svm\n",
        "\n",
        "#cross_validated_grid_search for Random Forest\n",
        "\n",
        "model = RandomForestClassifier()\n",
        "param_grid = {'n_estimators': [200, 300],#numero di alberi\n",
        "               'criterion': ['gini', 'entropy'],#purezza misurata con gini e entropia\n",
        "               'max_depth': [None, 5, 10], #profondità massima dell'albero\n",
        "               'min_samples_split': [2, 10, 20]} #Il numero minimo di campioni necessari per dividere un nodo interno\n",
        "\n",
        "grid = GridSearchCV(estimator = model, param_grid = param_grid, cv=3, verbose=2, n_jobs=-1)#default è accuracy\n",
        "# Fit the random search model\n",
        "%time grid_result = grid.fit(x_train, y_train)\n",
        "\n",
        "#print grid search results\n",
        "print(\"Best: %f using %s\" % (grid_result.best_score_, grid_result.best_params_))\n",
        "means = grid_result.cv_results_['mean_test_score']\n",
        "stds = grid_result.cv_results_['std_test_score']\n",
        "params = grid_result.cv_results_['params']\n",
        "for mean, stdev, param in zip(means, stds, params):\n",
        "    print(\"%f (%f) with: %r\" % (mean, stdev, param))\n",
        "'''"
      ]
    },
    {
      "cell_type": "markdown",
      "metadata": {
        "id": "Epx890xosqwL"
      },
      "source": [
        "### Best model for the surrogate model"
      ]
    },
    {
      "cell_type": "code",
      "execution_count": null,
      "metadata": {
        "id": "WxIo1r_lzUq3"
      },
      "outputs": [],
      "source": [
        "from tqdm import tqdm\n",
        "from sklearn.ensemble import RandomForestClassifier\n",
        "from sklearn.naive_bayes import MultinomialNB\n",
        "from sklearn.metrics import classification_report\n",
        "\n",
        "#Modello RF\n",
        "#model = RandomForestClassifier(criterion= 'gini', max_depth= None, min_samples_split= 2, n_estimators= 300) #cibo e Disneyland\n",
        "#model = RandomForestClassifier(criterion= 'entropy', max_depth= None, min_samples_split= 10, n_estimators= 300) #Electronic\n",
        "model = RandomForestClassifier(criterion= 'entropy', max_depth= None, min_samples_split= 10, n_estimators= 200) #Finance\n",
        "\n",
        "model.fit(X,y)\n",
        "predicted = model.predict(X)"
      ]
    },
    {
      "cell_type": "code",
      "execution_count": null,
      "metadata": {
        "id": "QVyxjIaAHegr"
      },
      "outputs": [],
      "source": [
        "import pandas as pd\n",
        "import numpy as np\n",
        "\n",
        "RF = pd.DataFrame(list(zip(X,predicted)), columns = ['testo','score'])"
      ]
    },
    {
      "cell_type": "markdown",
      "metadata": {
        "id": "vQJn0ynHoggS"
      },
      "source": [
        "### Surrogate Model for weights"
      ]
    },
    {
      "cell_type": "code",
      "execution_count": null,
      "metadata": {
        "id": "EiL7Cdv8Vymm"
      },
      "outputs": [],
      "source": [
        "X = RF['testo'].tolist()\n",
        "y = RF['score'].tolist()\n",
        "\n",
        "X = np.array(X)\n",
        "y = np.array(y)"
      ]
    },
    {
      "cell_type": "code",
      "execution_count": null,
      "metadata": {
        "colab": {
          "base_uri": "https://localhost:8080/"
        },
        "id": "S_ClrLhWoggS",
        "outputId": "55d30616-44a2-44a6-b7b9-bc700e26d7b7"
      },
      "outputs": [
        {
          "name": "stderr",
          "output_type": "stream",
          "text": [
            "/usr/local/lib/python3.7/dist-packages/sklearn/linear_model/_logistic.py:818: ConvergenceWarning: lbfgs failed to converge (status=1):\n",
            "STOP: TOTAL NO. of ITERATIONS REACHED LIMIT.\n",
            "\n",
            "Increase the number of iterations (max_iter) or scale the data as shown in:\n",
            "    https://scikit-learn.org/stable/modules/preprocessing.html\n",
            "Please also refer to the documentation for alternative solver options:\n",
            "    https://scikit-learn.org/stable/modules/linear_model.html#logistic-regression\n",
            "  extra_warning_msg=_LOGISTIC_SOLVER_CONVERGENCE_MSG,\n"
          ]
        }
      ],
      "source": [
        "from tqdm import tqdm\n",
        "from sklearn.metrics import classification_report\n",
        "from sklearn.linear_model import LogisticRegression\n",
        "\n",
        "model = LogisticRegression(class_weight=None)\n",
        "\n",
        "model.fit(X, y)\n",
        "\n",
        "pred = model.predict(X)"
      ]
    },
    {
      "cell_type": "markdown",
      "metadata": {
        "id": "Y_Mh3KMLj1Wk"
      },
      "source": [
        "# Understanding weights and scoring"
      ]
    },
    {
      "cell_type": "code",
      "execution_count": null,
      "metadata": {
        "colab": {
          "base_uri": "https://localhost:8080/",
          "height": 352
        },
        "id": "ndBd7K0vdei5",
        "outputId": "414acf71-0b6c-4e45-bf60-1805cf1b0099"
      },
      "outputs": [
        {
          "data": {
            "text/plain": [
              "(array([  3.,   7.,  19.,  67., 258., 698., 679., 225.,  39.,   5.]),\n",
              " array([-3.54914915, -2.95236075, -2.35557234, -1.75878393, -1.16199552,\n",
              "        -0.56520712,  0.03158129,  0.6283697 ,  1.2251581 ,  1.82194651,\n",
              "         2.41873492]),\n",
              " <a list of 10 Patch objects>)"
            ]
          },
          "execution_count": 39,
          "metadata": {},
          "output_type": "execute_result"
        },
        {
          "data": {
            "image/png": "[encoded data removed]",
            "text/plain": [
              "<Figure size 432x288 with 1 Axes>"
            ]
          },
          "metadata": {
            "needs_background": "light"
          },
          "output_type": "display_data"
        }
      ],
      "source": [
        "coef=model.coef_#valori coefficiente\n",
        "#feature_names sono le parole associate ai coefficiente\n",
        "\n",
        "#Distribuzione coefficiente\n",
        "import matplotlib\n",
        "import matplotlib.pyplot as pp\n",
        "pp.hist(coef[0])"
      ]
    },
    {
      "cell_type": "markdown",
      "metadata": {
        "id": "7St67s5q4qUP"
      },
      "source": [
        "### 1st technique"
      ]
    },
    {
      "cell_type": "code",
      "execution_count": null,
      "metadata": {
        "colab": {
          "base_uri": "https://localhost:8080/",
          "height": 122
        },
        "id": "MtsDGvm03OYt",
        "outputId": "e7daffc5-8fd9-4b8c-b383-879cafa14bbe"
      },
      "outputs": [
        {
          "data": {
            "application/vnd.google.colaboratory.intrinsic+json": {
              "type": "string"
            },
            "text/plain": [
              "'\\ndf1 = pd.DataFrame({\"Coeff\":coef[0],\"Parola\":feature_names,\"Punteggio\":0})\\ndf1.sort_values(by=[\"Coeff\"], ascending = False, inplace = True)\\nfor i in range(len(df1)):\\n  if df1.Coeff[i]>2: #coefficiente maggiore di 2, punteggio 4\\n    df1.Punteggio[i]=4\\n  elif df1.Coeff[i]>1.5: #coefficiente maggiore di 1.5, punteggio 3.5\\n    df1.Punteggio[i]=3.5\\n  elif df1.Coeff[i]>1: #coefficiente maggiore di 1, punteggio 3\\n    df1.Punteggio[i]=3\\n  elif df1.Coeff[i]>.5: #coefficiente maggiore di 0.5, punteggio 2.5\\n    df1.Punteggio[i]=2.5\\n  elif df1.Coeff[i]<-.5: #coefficiente minore di -0.5, punteggio -2.5\\n    df1.Punteggio[i]=-2.5\\n  elif df1.Coeff[i]<-1: #coefficiente minore di -1, punteggio -3\\n    df1.Punteggio[i]=-3\\n  elif df1.Coeff[i]<-1.5: #coefficiente minore di -1.5, punteggio -3.5\\n    df1.Punteggio[i]=-3.5\\n  elif df1.Coeff[i]<-2: #coefficiente minore di -2, punteggio -4\\n    df1.Punteggio[i]=-4\\n  else:\\n    df1.drop(i, inplace=True) \\n'"
            ]
          },
          "execution_count": 40,
          "metadata": {},
          "output_type": "execute_result"
        }
      ],
      "source": [
        "'''\n",
        "df1 = pd.DataFrame({\"Coeff\":coef[0],\"Parola\":feature_names,\"Punteggio\":0})\n",
        "df1.sort_values(by=[\"Coeff\"], ascending = False, inplace = True)\n",
        "for i in range(len(df1)):\n",
        "  if df1.Coeff[i]>2: #coefficiente maggiore di 2, punteggio 4\n",
        "    df1.Punteggio[i]=4\n",
        "  elif df1.Coeff[i]>1.5: #coefficiente maggiore di 1.5, punteggio 3.5\n",
        "    df1.Punteggio[i]=3.5\n",
        "  elif df1.Coeff[i]>1: #coefficiente maggiore di 1, punteggio 3\n",
        "    df1.Punteggio[i]=3\n",
        "  elif df1.Coeff[i]>.5: #coefficiente maggiore di 0.5, punteggio 2.5\n",
        "    df1.Punteggio[i]=2.5\n",
        "  elif df1.Coeff[i]<-.5: #coefficiente minore di -0.5, punteggio -2.5\n",
        "    df1.Punteggio[i]=-2.5\n",
        "  elif df1.Coeff[i]<-1: #coefficiente minore di -1, punteggio -3\n",
        "    df1.Punteggio[i]=-3\n",
        "  elif df1.Coeff[i]<-1.5: #coefficiente minore di -1.5, punteggio -3.5\n",
        "    df1.Punteggio[i]=-3.5\n",
        "  elif df1.Coeff[i]<-2: #coefficiente minore di -2, punteggio -4\n",
        "    df1.Punteggio[i]=-4\n",
        "  else:\n",
        "    df1.drop(i, inplace=True) \n",
        "'''"
      ]
    },
    {
      "cell_type": "markdown",
      "metadata": {
        "id": "3yU9Tieu4wBj"
      },
      "source": [
        "### 2nd technique (best one)"
      ]
    },
    {
      "cell_type": "code",
      "execution_count": null,
      "metadata": {
        "colab": {
          "base_uri": "https://localhost:8080/"
        },
        "id": "8H9j8o7BMPCD",
        "outputId": "b0e444ba-06c5-45e0-c159-35c4ca550155"
      },
      "outputs": [
        {
          "name": "stderr",
          "output_type": "stream",
          "text": [
            "/usr/local/lib/python3.7/dist-packages/ipykernel_launcher.py:5: SettingWithCopyWarning: \n",
            "A value is trying to be set on a copy of a slice from a DataFrame\n",
            "\n",
            "See the caveats in the documentation: https://pandas.pydata.org/pandas-docs/stable/user_guide/indexing.html#returning-a-view-versus-a-copy\n",
            "  \"\"\"\n",
            "/usr/local/lib/python3.7/dist-packages/ipykernel_launcher.py:7: SettingWithCopyWarning: \n",
            "A value is trying to be set on a copy of a slice from a DataFrame\n",
            "\n",
            "See the caveats in the documentation: https://pandas.pydata.org/pandas-docs/stable/user_guide/indexing.html#returning-a-view-versus-a-copy\n",
            "  import sys\n"
          ]
        }
      ],
      "source": [
        "df1 = pd.DataFrame({\"Coeff\":coef[0],\"Parola\":feature_names,\"Punteggio\":0})\n",
        "df1.sort_values(by=[\"Coeff\"], ascending = False, inplace = True)\n",
        "for i in range(len(df1)):\n",
        "  if df1.Coeff[i]>0.6: #coefficiente maggiore di 0.6, punteggio 4\n",
        "    df1.Punteggio[i]=4\n",
        "  elif df1.Coeff[i]<-0.6: #coefficiente minore di -0.6, punteggio -4\n",
        "    df1.Punteggio[i]=-4\n",
        "  else:\n",
        "    df1.drop(i, inplace=True) "
      ]
    },
    {
      "cell_type": "markdown",
      "metadata": {
        "id": "lI0g1xCz5BvT"
      },
      "source": [
        "### 3rd technique"
      ]
    },
    {
      "cell_type": "code",
      "execution_count": null,
      "metadata": {
        "colab": {
          "base_uri": "https://localhost:8080/",
          "height": 88
        },
        "id": "PlwStQGA5FvO",
        "outputId": "e321d3bb-3add-4cef-dad4-4b5d5143524a"
      },
      "outputs": [
        {
          "data": {
            "application/vnd.google.colaboratory.intrinsic+json": {
              "type": "string"
            },
            "text/plain": [
              "'\\ndf1 = pd.DataFrame({\"Coeff\":coef[0],\"Parola\":feature_names,\"Punteggio\":0})\\ndf1.sort_values(by=[\"Coeff\"], ascending = False, inplace = True)\\nfor i in range(len(df1)):\\n  if df1.Coeff[i]>1: #coefficiente maggiore di 1, punteggio 4\\n    df1.Punteggio[i]=4\\n  elif df1.Coeff[i]>.5: #coefficiente maggiore di 0.5, punteggio 3\\n    df1.Punteggio[i]=3\\n  elif df1.Coeff[i]<-.5: #coefficiente minore di -0.5, punteggio -3\\n    df1.Punteggio[i]=-3\\n  elif df1.Coeff[i]<-1: #coefficiente minore di -1, punteggio -4\\n    df1.Punteggio[i]=-4\\n  else:\\n    df1.drop(i, inplace=True) \\n'"
            ]
          },
          "execution_count": 42,
          "metadata": {},
          "output_type": "execute_result"
        }
      ],
      "source": [
        "'''\n",
        "df1 = pd.DataFrame({\"Coeff\":coef[0],\"Parola\":feature_names,\"Punteggio\":0})\n",
        "df1.sort_values(by=[\"Coeff\"], ascending = False, inplace = True)\n",
        "for i in range(len(df1)):\n",
        "  if df1.Coeff[i]>1: #coefficiente maggiore di 1, punteggio 4\n",
        "    df1.Punteggio[i]=4\n",
        "  elif df1.Coeff[i]>.5: #coefficiente maggiore di 0.5, punteggio 3\n",
        "    df1.Punteggio[i]=3\n",
        "  elif df1.Coeff[i]<-.5: #coefficiente minore di -0.5, punteggio -3\n",
        "    df1.Punteggio[i]=-3\n",
        "  elif df1.Coeff[i]<-1: #coefficiente minore di -1, punteggio -4\n",
        "    df1.Punteggio[i]=-4\n",
        "  else:\n",
        "    df1.drop(i, inplace=True) \n",
        "'''"
      ]
    },
    {
      "cell_type": "markdown",
      "metadata": {
        "id": "QWNmCLmzxhTR"
      },
      "source": [
        "## Dictionary creation"
      ]
    },
    {
      "cell_type": "code",
      "execution_count": null,
      "metadata": {
        "colab": {
          "base_uri": "https://localhost:8080/"
        },
        "id": "g4doiSNxUtqQ",
        "outputId": "1f6d78a5-eece-4607-ce0f-ca406c59850e"
      },
      "outputs": [
        {
          "name": "stdout",
          "output_type": "stream",
          "text": [
            "{'rose': 4, 'increase': 4, 'positive': 4, 'green': 4, 'load': 4, 'vulture': 4, 'higher': 4, 'increased': 4, 'grew': 4, 'example': 4, 'squeeze': 4, 'having': 4, 'improved': 4, 'bear': 4, 'base': 4, 'rocket': 4, 'narrowed': 4, 'dip': 4, 'spread': 4, 'nio': 4, 'nicely': 4, 'business': 4, 'uptrend': 4, 'offer': 4, '2b': 4, 'baba': 4, 'cover': 4, 'launch': 4, 'favorite': 4, 'call': 4, 'everyday': 4, 'above': 4, 'signed': 4, 'auto': 4, 'electric': 4, 'solid': 4, 'buy': 4, 'doubled': 4, 'alibaba': 4, 'live': 4, 'division': 4, 'consolidation': 4, 'clothing': 4, 'youre': 4, 'leap': 4, 'funny': 4, 'planning': 4, 'sept': 4, 'folk': 4, 'action': 4, 'spike': 4, 'missed': 4, 'awarded': 4, 'ill': 4, 'scared': 4, 'recycling': 4, 'stated': 4, 'cnbc': 4, 'congrats': 4, 'up': 4, 'run': 4, 'hey': 4, 'won': 4, 'ol': 4, 'patient': 4, '02': 4, 'maker': 4, 'become': 4, 'agreement': 4, 'posting': 4, 'understand': 4, 'rise': 4, 'video': 4, 'expand': 4, 'usa': 4, '46': 4, 'covering': 4, '2050': 4, 'upgrade': 4, 'lunch': 4, 'we': 4, 'cross': 4, 'plus': 4, 'aim': 4, 'hoping': 4, '250': 4, 'completed': 4, 'region': 4, 'eoy': 4, 'presentation': 4, 'solution': 4, 'talk': 4, '2016': 4, 'efficient': 4, 'goal': 4, 'mm': 4, 'turned': 4, 'player': 4, 'pushing': 4, 'gas': 4, 'vincent': 4, 'well': 4, 'upcoming': 4, 'betting': 4, 'bring': 4, 'meeting': 4, 'vietnam': 4, 'oy': 4, 'hopefully': 4, 'order': 4, 'shorty': 4, 'beginning': 4, 'ever': 4, 'partnership': 4, 'shopping': 4, 'partner': 4, 'panic': 4, 'dd': 4, 'mostly': 4, 'through': 4, 'hour': 4, 'table': 4, 'raised': 4, 'sign': 4, 'aws': 4, 'sky': 4, 'grow': 4, 'feb': 4, 'good': 4, 'love': 4, 'climb': 4, 'middle': 4, '09': 4, 'oversold': 4, 'strong': 4, 'stanley': 4, 'uk': 4, 'project': 4, 'swung': 4, 'ignore': 4, 'town': 4, 'best': 4, 'thank': 4, 'fly': 4, 'upside': 4, 'beat': 4, 'patience': 4, 'king': 4, 'buffet': 4, 'recovery': 4, 'nine': 4, 'asset': 4, 'blast': 4, 'please': 4, 'yahoo': 4, 'explode': 4, 'swing': 4, 'join': 4, 'continued': 4, 'america': 4, 'warren': 4, 'amzn': 4, 'set': 4, '300': 4, 'shorties': 4, 'epic': 4, 'btmfd': 4, 'reverse': 4, 'baby': 4, 'easy': 4, 'truth': 4, 'dow': 4, 'ensure': 4, 'summer': 4, 'much': 4, 'fund': 4, 'machine': 4, 'ice': 4, 'teleste': 4, '2000': 4, 'flip': 4, 'catalyst': 4, 'pre': 4, 'im': 4, 'chance': 4, 'percent': 4, 'remember': 4, 'holding': 4, 'respectively': 4, 'visit': 4, 'btfd': 4, 'research': 4, 'interesting': 4, 'worry': 4, 'imminent': 4, 'recommendation': 4, 'capacity': 4, 'lift': 4, 'repeat': 4, 'enjoy': 4, 'february': 4, 'setup': 4, 'did': 4, 'yesterday': 4, 'wood': 4, 'cup': 4, 'largest': 4, 'station': 4, 'saving': 4, 'moon': 4, 'self': 4, 'far': 4, 'consensus': 4, 'reversal': 4, 'growing': 4, 'name': 4, 'clown': 4, 'autonomous': 4, '220s': 4, 'rate': 4, 'ripping': 4, '400': 4, 'sec': 4, 'fud': 4, 'leading': 4, 'stronger': 4, 'advantage': 4, 'old': 4, 'reach': 4, 'couldnt': 4, 'other': 4, 'listen': 4, 'boom': 4, 'hod': 4, 'special': 4, '63': 4, 'fear': 4, 'show': 4, 'bill': 4, 'global': 4, 'bought': 4, '05': 4, 'medium': 4, 'continue': 4, 'success': 4, 'service': 4, 'world': 4, 'pleased': 4, 'finish': 4, 'press': 4, 'quarterly': 4, 'posted': 4, 'destroy': 4, 'hahaha': 4, 'buying': 4, 'improve': 4, 'bringing': 4, '13': 4, 'flag': 4, 'beijing': 4, 'biggest': 4, 'burn': 4, 'fair': 4, '2k': 4, '68': 4, 'post': 4, 'cause': 4, 'cheap': 4, 'actually': 4, 'amazing': 4, 'hurt': 4, 'stream': 4, '244': 4, 'flat': 4, 'healthy': 4, 'indian': 4, 'bit': 4, 'discount': 4, 'give': 4, 'making': 4, 'announces': 4, 'weekly': 4, 'breakout': 4, 'worried': 4, 'improvement': 4, 'transaction': 4, 'bmw': 4, 'successful': 4, 'each': 4, 'member': -4, 'list': -4, 'based': -4, 'standard': -4, 'too': -4, 'part': -4, 'chinese': -4, 'insurance': -4, 'side': -4, 'short': -4, 'recurring': -4, '2009': -4, 'takeover': -4, 'cut': -4, 'not': -4, 'review': -4, 'shes': -4, 'item': -4, 'hope': -4, '42': -4, 'baltic': -4, 'during': -4, 'havent': -4, '12': -4, 'ups': -4, 'supplier': -4, 'msft': -4, '40': -4, 'fake': -4, 'idiot': -4, 'between': -4, 'production': -4, 'number': -4, 'running': -4, 'ford': -4, 'leg': -4, 'email': -4, 'coffee': -4, 'goldman': -4, 'barclays': -4, 'electronics': -4, 'downtrend': -4, '06': -4, 'iphones': -4, 'test': -4, 'house': -4, 'seriously': -4, 'lie': -4, 'traded': -4, 'downgraded': -4, 'wanna': -4, 'lt': -4, 'min': -4, 'she': -4, 'vote': -4, 'source': -4, 'rather': -4, '48': -4, 'sound': -4, 'result': -4, 'hel': -4, 'nasdaq': -4, 'amounted': -4, 'screwed': -4, '07': -4, 'corp': -4, '92': -4, 'dumping': -4, 'greedy': -4, 'packaging': -4, 'huya': -4, 'laid': -4, 'blue': -4, 'rest': -4, 'smaller': -4, 'nearly': -4, 'hike': -4, 'activity': -4, 'ta': -4, '195': -4, 'meat': -4, 'credit': -4, 'design': -4, 'kid': -4, 'recall': -4, 'recent': -4, '222': -4, 'till': -4, 'goog': -4, 'reached': -4, 'eu': -4, 'starting': -4, 'seen': -4, 'heavy': -4, 'developer': -4, 'algos': -4, 'buck': -4, 'leader': -4, 'job': -4, 'march': -4, 'cat': -4, 'slowing': -4, 'condition': -4, 'ship': -4, 'decline': -4, 'turn': -4, 'entered': -4, 'whole': -4, 'strike': -4, 'hard': -4, 'key': -4, 'trust': -4, '49': -4, '110': -4, 'fire': -4, 'cannot': -4, 'forget': -4, 'nvda': -4, 'sma': -4, '150': -4, 'blood': -4, 'poor': -4, 'general': -4, 'failed': -4, '78': -4, '88': -4, 'careful': -4, 'worker': -4, 'mr': -4, 'warning': -4, 'feeling': -4, '89': -4, '59': -4, 'due': -4, 'lay': -4, '201': -4, 'sheet': -4, 'issued': -4, 'word': -4, '197': -4, 'settle': -4, 'shake': -4, 'small': -4, '700': -4, 'remain': -4, 'maybe': -4, 'trouble': -4, 'shell': -4, '95': -4, 'capital': -4, 'don': -4, 'bell': -4, '221': -4, 'cost': -4, 'longs': -4, 'roof': -4, 'loss': -4, 'diluted': -4, 'falling': -4, 'north': -4, 'expect': -4, 'oct': -4, 'massive': -4, 'giving': -4, 'retest': -4, 'cult': -4, 'dream': -4, 'while': -4, 'summit': -4, 'q1': -4, '1750': -4, '69': -4, 'thru': -4, 'sub': -4, 'fail': -4, 'doesnt': -4, 'hate': -4, 'jan': -4, 'temporarily': -4, 'everybody': -4, 'shorting': -4, 'fun': -4, 'entire': -4, 'ground': -4, 'employee': -4, 'headline': -4, 'person': -4, 'moron': -4, 'economy': -4, 'scanfil': -4, 'man': -4, 'being': -4, 'negotiation': -4, '11': -4, '34': -4, 'incoming': -4, 'die': -4, '1000': -4, 'pulling': -4, 'weak': -4, 'chief': -4, 'because': -4, 'overbought': -4, 'premium': -4, 'weve': -4, 'total': -4, 'low': -4, 'creating': -4, '155': -4, 'bunch': -4, '167': -4, 'paper': -4, 'near': -4, 'previously': -4, 'correction': -4, 'immediately': -4, 'trash': -4, 'snap': -4, 'reading': -4, 'musk': -4, 'garbage': -4, 'seat': -4, 'further': -4, 'risk': -4, 'yourself': -4, 'g20': -4, 'enough': -4, 'ya': -4, 'shorted': -4, 'trap': -4, 'decrease': -4, 'slide': -4, 'reduction': -4, 'wheel': -4, 'insider': -4, 'broken': -4, 'god': -4, 'oh': -4, 'caught': -4, 'pull': -4, 'criminal': -4, 'wedge': -4, 'question': -4, 'row': -4, 'national': -4, 'suv': -4, 'bubble': -4, 'offs': -4, 'sell': -4, 'staff': -4, 'environment': -4, 'starbucks': -4, 'breakdown': -4, 'downgrade': -4, 'dog': -4, 'ugly': -4, 'recession': -4, 'bezos': -4, 'b4': -4, 'accounting': -4, 'officially': -4, 'leave': -4, 'brought': -4, 'sorry': -4, 'temporary': -4, 'under': -4, 'killed': -4, 'gone': -4, '900': -4, 'quite': -4, 'weakness': -4, 'screen': -4, '190': -4, 'save': -4, 'tough': -4, 'downside': -4, 'lost': -4, 'below': -4, 'exit': -4, 'plunge': -4, 'dumped': -4, 'bull': -4, 'flush': -4, 'spy': -4, 'reality': -4, 'case': -4, 'worst': -4, '150s': -4, '160': -4, 'red': -4, 'personnel': -4, 'losing': -4, 'douche': -4, 'dead': -4, '1800': -4, 'debt': -4, 'worse': -4, 'zero': -4, 'change': -4, 'tank': -4, 'drop': -4, 'priced': -4, 'slipped': -4, 'bearish': -4, 'crash': -4, 'down': -4, 'fade': -4, 'selloff': -4, 'dropping': -4, 'fraud': -4, 'po': -4, 'death': -4, 'put': -4, 'lower': -4, 'scam': -4, 'dropped': -4, 'overvalued': -4, 'fall': -4, 'declined': -4, 'fell': -4, 'dump': -4, 'decreased': -4}\n"
          ]
        }
      ],
      "source": [
        "#Dizionario per migliorare vader\n",
        "#La chiave sarà la parola e il valore sarà il punteggio assegnato\n",
        "new_words =  dict([([a,b]) for a,b in zip(df1['Parola'], df1['Punteggio'])])\n",
        "print(new_words)"
      ]
    },
    {
      "cell_type": "markdown",
      "metadata": {
        "id": "v2wVskCoIRHE"
      },
      "source": [
        "## Saving dic"
      ]
    },
    {
      "cell_type": "code",
      "execution_count": null,
      "metadata": {
        "id": "ffn8vUQhIUt-"
      },
      "outputs": [],
      "source": [
        "import json\n",
        "tf = open(filepath+\"dizionario/Dizionario_finance.json\", \"w\")\n",
        "json.dump(new_words,tf)\n",
        "tf.close()"
      ]
    }
  ],
  "metadata": {
    "colab": {
      "collapsed_sections": [],
      "name": "Assegno_pesi_parole.ipynb",
      "provenance": []
    },
    "kernelspec": {
      "display_name": "Python 3",
      "name": "python3"
    },
    "language_info": {
      "name": "python"
    },
    "toc": {
      "base_numbering": 1,
      "nav_menu": {},
      "number_sections": true,
      "sideBar": true,
      "skip_h1_title": false,
      "title_cell": "Table of Contents",
      "title_sidebar": "Contents",
      "toc_cell": false,
      "toc_position": {
        "height": "calc(100% - 180px)",
        "left": "10px",
        "top": "150px",
        "width": "307.2px"
      },
      "toc_section_display": true,
      "toc_window_display": true
    }
  },
  "nbformat": 4,
  "nbformat_minor": 0
}
