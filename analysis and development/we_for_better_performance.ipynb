{
  "cells": [
    {
      "cell_type": "code",
      "execution_count": null,
      "metadata": {
        "colab": {
          "base_uri": "https://localhost:8080/"
        },
        "id": "rUcrYfBdxlu7",
        "outputId": "cb722079-e42b-4cad-e59d-c253a7fb3b98"
      },
      "outputs": [
        {
          "name": "stdout",
          "output_type": "stream",
          "text": [
            "Drive already mounted at /content/drive; to attempt to forcibly remount, call drive.mount(\"/content/drive\", force_remount=True).\n"
          ]
        }
      ],
      "source": [
        "from google.colab import drive\n",
        "drive.mount('/content/drive')"
      ]
    },
    {
      "cell_type": "code",
      "execution_count": null,
      "metadata": {
        "id": "vtqOlFYScXrt"
      },
      "outputs": [],
      "source": [
        "filepath = '/content/drive/MyDrive/Progetto Colab/'"
      ]
    },
    {
      "cell_type": "markdown",
      "metadata": {
        "id": "0aFR9cbixcmU"
      },
      "source": [
        "# Import"
      ]
    },
    {
      "cell_type": "code",
      "execution_count": null,
      "metadata": {
        "colab": {
          "base_uri": "https://localhost:8080/",
          "height": 206
        },
        "id": "f3jnN-zxxcmW",
        "outputId": "7067c6b6-15e7-4d49-df4f-825bc8b10c2e"
      },
      "outputs": [
        {
          "data": {
            "text/html": [
              "\n",
              "  <div id=\"df-a50541b3-19d4-470c-ba22-35055b278db3\">\n",
              "    <div class=\"colab-df-container\">\n",
              "      <div>\n",
              "<style scoped>\n",
              "    .dataframe tbody tr th:only-of-type {\n",
              "        vertical-align: middle;\n",
              "    }\n",
              "\n",
              "    .dataframe tbody tr th {\n",
              "        vertical-align: top;\n",
              "    }\n",
              "\n",
              "    .dataframe thead th {\n",
              "        text-align: right;\n",
              "    }\n",
              "</style>\n",
              "<table border=\"1\" class=\"dataframe\">\n",
              "  <thead>\n",
              "    <tr style=\"text-align: right;\">\n",
              "      <th></th>\n",
              "      <th>Tipo</th>\n",
              "      <th>Score</th>\n",
              "      <th>Text</th>\n",
              "    </tr>\n",
              "  </thead>\n",
              "  <tbody>\n",
              "    <tr>\n",
              "      <th>0</th>\n",
              "      <td>Finance</td>\n",
              "      <td>Positive</td>\n",
              "      <td>'bout to pas in pps.. im in both '</td>\n",
              "    </tr>\n",
              "    <tr>\n",
              "      <th>1</th>\n",
              "      <td>Finance</td>\n",
              "      <td>Positive</td>\n",
              "      <td>'short toasting very well'</td>\n",
              "    </tr>\n",
              "    <tr>\n",
              "      <th>2</th>\n",
              "      <td>Finance</td>\n",
              "      <td>Negative</td>\n",
              "      <td>'is dead money for the rest of the year a ipho...</td>\n",
              "    </tr>\n",
              "    <tr>\n",
              "      <th>3</th>\n",
              "      <td>Finance</td>\n",
              "      <td>Positive</td>\n",
              "      <td>'already climbing pm.'</td>\n",
              "    </tr>\n",
              "    <tr>\n",
              "      <th>4</th>\n",
              "      <td>Finance</td>\n",
              "      <td>Positive</td>\n",
              "      <td>'how are yall bearish smfh'</td>\n",
              "    </tr>\n",
              "  </tbody>\n",
              "</table>\n",
              "</div>\n",
              "      <button class=\"colab-df-convert\" onclick=\"convertToInteractive('df-a50541b3-19d4-470c-ba22-35055b278db3')\"\n",
              "              title=\"Convert this dataframe to an interactive table.\"\n",
              "              style=\"display:none;\">\n",
              "        \n",
              "  <svg xmlns=\"http://www.w3.org/2000/svg\" height=\"24px\"viewBox=\"0 0 24 24\"\n",
              "       width=\"24px\">\n",
              "    <path d=\"M0 0h24v24H0V0z\" fill=\"none\"/>\n",
              "    <path d=\"M18.56 5.44l.94 2.06.94-2.06 2.06-.94-2.06-.94-.94-2.06-.94 2.06-2.06.94zm-11 1L8.5 8.5l.94-2.06 2.06-.94-2.06-.94L8.5 2.5l-.94 2.06-2.06.94zm10 10l.94 2.06.94-2.06 2.06-.94-2.06-.94-.94-2.06-.94 2.06-2.06.94z\"/><path d=\"M17.41 7.96l-1.37-1.37c-.4-.4-.92-.59-1.43-.59-.52 0-1.04.2-1.43.59L10.3 9.45l-7.72 7.72c-.78.78-.78 2.05 0 2.83L4 21.41c.39.39.9.59 1.41.59.51 0 1.02-.2 1.41-.59l7.78-7.78 2.81-2.81c.8-.78.8-2.07 0-2.86zM5.41 20L4 18.59l7.72-7.72 1.47 1.35L5.41 20z\"/>\n",
              "  </svg>\n",
              "      </button>\n",
              "      \n",
              "  <style>\n",
              "    .colab-df-container {\n",
              "      display:flex;\n",
              "      flex-wrap:wrap;\n",
              "      gap: 12px;\n",
              "    }\n",
              "\n",
              "    .colab-df-convert {\n",
              "      background-color: #E8F0FE;\n",
              "      border: none;\n",
              "      border-radius: 50%;\n",
              "      cursor: pointer;\n",
              "      display: none;\n",
              "      fill: #1967D2;\n",
              "      height: 32px;\n",
              "      padding: 0 0 0 0;\n",
              "      width: 32px;\n",
              "    }\n",
              "\n",
              "    .colab-df-convert:hover {\n",
              "      background-color: #E2EBFA;\n",
              "      box-shadow: 0px 1px 2px rgba(60, 64, 67, 0.3), 0px 1px 3px 1px rgba(60, 64, 67, 0.15);\n",
              "      fill: #174EA6;\n",
              "    }\n",
              "\n",
              "    [theme=dark] .colab-df-convert {\n",
              "      background-color: #3B4455;\n",
              "      fill: #D2E3FC;\n",
              "    }\n",
              "\n",
              "    [theme=dark] .colab-df-convert:hover {\n",
              "      background-color: #434B5C;\n",
              "      box-shadow: 0px 1px 3px 1px rgba(0, 0, 0, 0.15);\n",
              "      filter: drop-shadow(0px 1px 2px rgba(0, 0, 0, 0.3));\n",
              "      fill: #FFFFFF;\n",
              "    }\n",
              "  </style>\n",
              "\n",
              "      <script>\n",
              "        const buttonEl =\n",
              "          document.querySelector('#df-a50541b3-19d4-470c-ba22-35055b278db3 button.colab-df-convert');\n",
              "        buttonEl.style.display =\n",
              "          google.colab.kernel.accessAllowed ? 'block' : 'none';\n",
              "\n",
              "        async function convertToInteractive(key) {\n",
              "          const element = document.querySelector('#df-a50541b3-19d4-470c-ba22-35055b278db3');\n",
              "          const dataTable =\n",
              "            await google.colab.kernel.invokeFunction('convertToInteractive',\n",
              "                                                     [key], {});\n",
              "          if (!dataTable) return;\n",
              "\n",
              "          const docLinkHtml = 'Like what you see? Visit the ' +\n",
              "            '<a target=\"_blank\" href=https://colab.research.google.com/notebooks/data_table.ipynb>data table notebook</a>'\n",
              "            + ' to learn more about interactive tables.';\n",
              "          element.innerHTML = '';\n",
              "          dataTable['output_type'] = 'display_data';\n",
              "          await google.colab.output.renderOutput(dataTable, element);\n",
              "          const docLink = document.createElement('div');\n",
              "          docLink.innerHTML = docLinkHtml;\n",
              "          element.appendChild(docLink);\n",
              "        }\n",
              "      </script>\n",
              "    </div>\n",
              "  </div>\n",
              "  "
            ],
            "text/plain": [
              "      Tipo     Score                                               Text\n",
              "0  Finance  Positive                 'bout to pas in pps.. im in both '\n",
              "1  Finance  Positive                         'short toasting very well'\n",
              "2  Finance  Negative  'is dead money for the rest of the year a ipho...\n",
              "3  Finance  Positive                             'already climbing pm.'\n",
              "4  Finance  Positive                        'how are yall bearish smfh'"
            ]
          },
          "execution_count": 122,
          "metadata": {},
          "output_type": "execute_result"
        }
      ],
      "source": [
        "import pandas as pd\n",
        "df = pd.read_excel(filepath+'data/Finance.xlsx')\n",
        "df.head()"
      ]
    },
    {
      "cell_type": "code",
      "execution_count": null,
      "metadata": {
        "id": "xoPeNuRkCY1Y"
      },
      "outputs": [],
      "source": [
        "df_not_na = df[~(df['Text'].isna())]\n",
        "raw_text = df_not_na['Text']"
      ]
    },
    {
      "cell_type": "code",
      "execution_count": null,
      "metadata": {
        "colab": {
          "base_uri": "https://localhost:8080/"
        },
        "id": "cbnNeyxcDOxM",
        "outputId": "470ed702-7f0c-4371-c230-bfe5239cac06"
      },
      "outputs": [
        {
          "name": "stdout",
          "output_type": "stream",
          "text": [
            "[nltk_data] Downloading package wordnet to /root/nltk_data...\n",
            "[nltk_data]   Package wordnet is already up-to-date!\n",
            "[nltk_data] Downloading package stopwords to /root/nltk_data...\n",
            "[nltk_data]   Package stopwords is already up-to-date!\n"
          ]
        },
        {
          "data": {
            "text/plain": [
              "True"
            ]
          },
          "execution_count": 124,
          "metadata": {},
          "output_type": "execute_result"
        }
      ],
      "source": [
        "import nltk\n",
        "#tassonomia della lingua inglese\n",
        "nltk.download('wordnet')\n",
        "#parole di uso comune che non hanno significato, e, che , li, gli\n",
        "nltk.download('stopwords')"
      ]
    },
    {
      "cell_type": "code",
      "execution_count": null,
      "metadata": {
        "colab": {
          "base_uri": "https://localhost:8080/"
        },
        "id": "h_ZlQGNoC2Ke",
        "outputId": "4dfe1e93-ef33-4d40-a6c7-e73235548b1f"
      },
      "outputs": [
        {
          "data": {
            "text/plain": [
              "0                [bout, to, pa, in, pps, im, in, both]\n",
              "1                        [short, toasting, very, well]\n",
              "2    [is, dead, money, for, the, rest, of, the, yea...\n",
              "3                              [already, climbing, pm]\n",
              "4                      [how, are, yall, bearish, smfh]\n",
              "Name: Text, dtype: object"
            ]
          },
          "execution_count": 125,
          "metadata": {},
          "output_type": "execute_result"
        }
      ],
      "source": [
        "\n",
        "from tqdm import tqdm\n",
        "#riduzione delle parole a una radice, il lematizer scegli una forma base comune come il tempo essere, e tutti i verbi saranno messi come esso\n",
        "from nltk.stem import WordNetLemmatizer\n",
        "lemmatizer = WordNetLemmatizer()\n",
        "\n",
        "#tutte le parole in minuscolo e sostituire [^\\w\\s\\d], (elimina tutto ciò che non è parole, spazi, numeri) \n",
        "text = raw_text.str.lower().str.replace('[^\\w\\s\\d]',' ', regex=True)\n",
        "#separiamo con gli spazi\n",
        "text = text.str.split()\n",
        "\n",
        "#per ogni parola si applica il lemmataizer\n",
        "text = text.apply(lambda x: [lemmatizer.lemmatize(sent) for sent in x])\n",
        "#tolgo tutte le parole che hanno una lunghezza minore di 2\n",
        "for row in text:\n",
        "    [row.remove(i) for i in row if len(i) < 2]\n",
        "text.head()"
      ]
    },
    {
      "cell_type": "code",
      "execution_count": null,
      "metadata": {
        "id": "uvoI_U02D9u9"
      },
      "outputs": [],
      "source": [
        "from nltk.corpus import stopwords\n",
        "#Parole da eliminare\n",
        "stop = stopwords.words('english')\n",
        "\n",
        "train_sentences = []\n",
        "for row in text:\n",
        "    train_sentences.append([item for item in row if item not in stop])"
      ]
    },
    {
      "cell_type": "markdown",
      "metadata": {
        "id": "WRvbRwHKmEaZ"
      },
      "source": [
        "# FastText"
      ]
    },
    {
      "cell_type": "code",
      "execution_count": null,
      "metadata": {
        "id": "8SM5QP8txcma"
      },
      "outputs": [],
      "source": [
        "from gensim.models import FastText\n",
        "\n",
        "#min_n dimensione minima dei caratteri, considera parole di almeno di 2 lettere\n",
        "#max_n dimensione massima dei caratteri\n",
        "#stiamo considerando le parole da 2 a 6 lettere\n",
        "#min_count numero minimo di parole\n",
        "\n",
        "\n",
        "ft_model = FastText(sg=0, hs=1, sentences=train_sentences, size=100, window=5, min_count=5, iter=2, min_n=2, max_n=6) #gensim 3"
      ]
    },
    {
      "cell_type": "markdown",
      "metadata": {
        "id": "1HbhbIuZmkJY"
      },
      "source": [
        "# Dictionary import"
      ]
    },
    {
      "cell_type": "code",
      "execution_count": null,
      "metadata": {
        "colab": {
          "base_uri": "https://localhost:8080/"
        },
        "id": "WeRgr5gZKu-v",
        "outputId": "ba10f7e0-e2c6-46b5-97f8-897dd35adad0"
      },
      "outputs": [
        {
          "name": "stdout",
          "output_type": "stream",
          "text": [
            "{'rose': 4, 'increase': 4, 'positive': 4, 'green': 4, 'load': 4, 'vulture': 4, 'higher': 4, 'increased': 4, 'grew': 4, 'example': 4, 'squeeze': 4, 'having': 4, 'improved': 4, 'bear': 4, 'base': 4, 'rocket': 4, 'narrowed': 4, 'dip': 4, 'spread': 4, 'nio': 4, 'nicely': 4, 'business': 4, 'uptrend': 4, 'offer': 4, '2b': 4, 'baba': 4, 'cover': 4, 'launch': 4, 'favorite': 4, 'call': 4, 'everyday': 4, 'above': 4, 'signed': 4, 'auto': 4, 'electric': 4, 'solid': 4, 'buy': 4, 'doubled': 4, 'alibaba': 4, 'live': 4, 'division': 4, 'consolidation': 4, 'clothing': 4, 'youre': 4, 'leap': 4, 'funny': 4, 'planning': 4, 'sept': 4, 'folk': 4, 'action': 4, 'spike': 4, 'missed': 4, 'awarded': 4, 'ill': 4, 'scared': 4, 'recycling': 4, 'stated': 4, 'cnbc': 4, 'congrats': 4, 'up': 4, 'run': 4, 'hey': 4, 'won': 4, 'ol': 4, 'patient': 4, '02': 4, 'maker': 4, 'become': 4, 'agreement': 4, 'posting': 4, 'understand': 4, 'rise': 4, 'video': 4, 'expand': 4, 'usa': 4, '46': 4, 'covering': 4, '2050': 4, 'upgrade': 4, 'lunch': 4, 'we': 4, 'cross': 4, 'plus': 4, 'aim': 4, 'hoping': 4, '250': 4, 'completed': 4, 'region': 4, 'eoy': 4, 'presentation': 4, 'solution': 4, 'talk': 4, '2016': 4, 'efficient': 4, 'goal': 4, 'mm': 4, 'turned': 4, 'player': 4, 'pushing': 4, 'gas': 4, 'vincent': 4, 'well': 4, 'upcoming': 4, 'betting': 4, 'bring': 4, 'meeting': 4, 'vietnam': 4, 'oy': 4, 'hopefully': 4, 'order': 4, 'shorty': 4, 'beginning': 4, 'ever': 4, 'partnership': 4, 'shopping': 4, 'partner': 4, 'panic': 4, 'dd': 4, 'mostly': 4, 'through': 4, 'hour': 4, 'table': 4, 'raised': 4, 'sign': 4, 'aws': 4, 'sky': 4, 'grow': 4, 'feb': 4, 'good': 4, 'love': 4, 'climb': 4, 'middle': 4, '09': 4, 'oversold': 4, 'strong': 4, 'stanley': 4, 'uk': 4, 'project': 4, 'swung': 4, 'ignore': 4, 'town': 4, 'best': 4, 'thank': 4, 'fly': 4, 'upside': 4, 'beat': 4, 'patience': 4, 'king': 4, 'buffet': 4, 'recovery': 4, 'nine': 4, 'asset': 4, 'blast': 4, 'please': 4, 'yahoo': 4, 'explode': 4, 'swing': 4, 'join': 4, 'continued': 4, 'america': 4, 'warren': 4, 'amzn': 4, 'set': 4, '300': 4, 'shorties': 4, 'epic': 4, 'btmfd': 4, 'reverse': 4, 'baby': 4, 'easy': 4, 'truth': 4, 'dow': 4, 'ensure': 4, 'summer': 4, 'much': 4, 'fund': 4, 'machine': 4, 'ice': 4, 'teleste': 4, '2000': 4, 'flip': 4, 'catalyst': 4, 'pre': 4, 'im': 4, 'chance': 4, 'percent': 4, 'remember': 4, 'holding': 4, 'respectively': 4, 'visit': 4, 'btfd': 4, 'research': 4, 'interesting': 4, 'worry': 4, 'imminent': 4, 'recommendation': 4, 'capacity': 4, 'lift': 4, 'repeat': 4, 'enjoy': 4, 'february': 4, 'setup': 4, 'did': 4, 'yesterday': 4, 'wood': 4, 'cup': 4, 'largest': 4, 'station': 4, 'saving': 4, 'moon': 4, 'self': 4, 'far': 4, 'consensus': 4, 'reversal': 4, 'growing': 4, 'name': 4, 'clown': 4, 'autonomous': 4, '220s': 4, 'rate': 4, 'ripping': 4, '400': 4, 'sec': 4, 'fud': 4, 'leading': 4, 'stronger': 4, 'advantage': 4, 'old': 4, 'reach': 4, 'couldnt': 4, 'other': 4, 'listen': 4, 'boom': 4, 'hod': 4, 'special': 4, '63': 4, 'fear': 4, 'show': 4, 'bill': 4, 'global': 4, 'bought': 4, '05': 4, 'medium': 4, 'continue': 4, 'success': 4, 'service': 4, 'world': 4, 'pleased': 4, 'finish': 4, 'press': 4, 'quarterly': 4, 'posted': 4, 'destroy': 4, 'hahaha': 4, 'buying': 4, 'improve': 4, 'bringing': 4, '13': 4, 'flag': 4, 'beijing': 4, 'biggest': 4, 'burn': 4, 'fair': 4, '2k': 4, '68': 4, 'post': 4, 'cause': 4, 'cheap': 4, 'actually': 4, 'amazing': 4, 'hurt': 4, 'stream': 4, '244': 4, 'flat': 4, 'healthy': 4, 'indian': 4, 'bit': 4, 'discount': 4, 'give': 4, 'making': 4, 'announces': 4, 'weekly': 4, 'breakout': 4, 'worried': 4, 'improvement': 4, 'transaction': 4, 'bmw': 4, 'successful': 4, 'each': 4, 'member': 4, 'list': 4, 'based': 4, 'standard': 4, 'too': -4, 'part': 4, 'chinese': 4, 'insurance': 4, 'side': 4, 'short': 4, 'recurring': 4, '2009': 4, 'takeover': 4, 'cut': 4, 'not': -4, 'review': 4, 'shes': 4, 'item': 4, 'hope': 4, '42': 4, 'baltic': 4, 'during': -4, 'havent': 4, '12': 4, 'ups': 4, 'supplier': 4, 'msft': 4, '40': 4, 'fake': 4, 'idiot': 4, 'between': -4, 'production': 4, 'number': 4, 'running': 4, 'ford': 4, 'leg': 4, 'email': 4, 'coffee': 4, 'goldman': 4, 'barclays': 4, 'electronics': 4, 'downtrend': 4, '06': 4, 'iphones': 4, 'test': 4, 'house': 4, 'seriously': 4, 'lie': 4, 'traded': 4, 'downgraded': 4, 'wanna': 4, 'lt': 4, 'min': 4, 'she': -4, 'vote': 4, 'source': 4, 'rather': 4, '48': 4, 'sound': 4, 'result': 4, 'hel': 4, 'nasdaq': 4, 'amounted': 4, 'screwed': 4, '07': 4, 'corp': 4, '92': 4, 'dumping': 4, 'greedy': 4, 'packaging': 4, 'huya': 4, 'laid': 4, 'blue': 4, 'rest': 4, 'smaller': 4, 'nearly': 4, 'hike': 4, 'activity': 4, 'ta': 4, '195': 4, 'meat': 4, 'credit': 4, 'design': 4, 'kid': 4, 'recall': 4, 'recent': 4, '222': 4, 'till': 4, 'goog': 4, 'reached': 4, 'eu': 4, 'starting': 4, 'seen': 4, 'heavy': 4, 'developer': 4, 'algos': 4, 'buck': 4, 'leader': 4, 'job': 4, 'march': 4, 'cat': 4, 'slowing': 4, 'condition': 4, 'ship': 4, 'decline': 4, 'turn': 4, 'entered': 4, 'whole': 4, 'strike': 4, 'hard': 4, 'key': 4, 'trust': 4, '49': 4, '110': 4, 'fire': 4, 'cannot': 4, 'forget': 4, 'nvda': 4, 'sma': 4, '150': 4, 'blood': 4, 'poor': 4, 'general': 4, 'failed': 4, '78': 4, '88': 4, 'careful': 4, 'worker': 4, 'mr': 4, 'warning': 4, 'feeling': 4, '89': 4, '59': 4, 'due': 4, 'lay': 4, '201': 4, 'sheet': 4, 'issued': 4, 'word': 4, '197': 4, 'settle': 4, 'shake': 4, 'small': 4, '700': 4, 'remain': 4, 'maybe': 4, 'trouble': 4, 'shell': 4, '95': 4, 'capital': 4, 'don': -4, 'bell': 4, '221': 4, 'cost': 4, 'longs': 4, 'roof': 4, 'loss': 4, 'diluted': 4, 'falling': 4, 'north': 4, 'expect': 4, 'oct': 4, 'massive': 4, 'giving': 4, 'retest': 4, 'cult': 4, 'dream': 4, 'while': -4, 'summit': 4, 'q1': 4, '1750': 4, '69': 4, 'thru': 4, 'sub': 4, 'fail': 4, 'doesnt': 4, 'hate': 4, 'jan': 4, 'temporarily': 4, 'everybody': 4, 'shorting': 4, 'fun': 4, 'entire': 4, 'ground': 4, 'employee': 4, 'headline': 4, 'person': 4, 'moron': 4, 'economy': 4, 'scanfil': 4, 'man': 4, 'being': -4, 'negotiation': 4, '11': 4, '34': 4, 'incoming': 4, 'die': 4, '1000': 4, 'pulling': 4, 'weak': 4, 'chief': 4, 'because': -4, 'overbought': 4, 'premium': 4, 'weve': 4, 'total': 4, 'low': 4, 'creating': 4, '155': 4, 'bunch': 4, '167': 4, 'paper': 4, 'near': 4, 'previously': 4, 'correction': 4, 'immediately': 4, 'trash': 4, 'snap': 4, 'reading': 4, 'musk': 4, 'garbage': 4, 'seat': 4, 'further': -4, 'risk': 4, 'yourself': -4, 'g20': 4, 'enough': 4, 'ya': 4, 'shorted': 4, 'trap': 4, 'decrease': 4, 'slide': 4, 'reduction': 4, 'wheel': 4, 'insider': 4, 'broken': 4, 'god': 4, 'oh': 4, 'caught': 4, 'pull': 4, 'criminal': 4, 'wedge': 4, 'question': 4, 'row': 4, 'national': 4, 'suv': 4, 'bubble': 4, 'offs': 4, 'sell': 4, 'staff': 4, 'environment': 4, 'starbucks': 4, 'breakdown': 4, 'downgrade': 4, 'dog': 4, 'ugly': 4, 'recession': 4, 'bezos': 4, 'b4': 4, 'accounting': 4, 'officially': 4, 'leave': 4, 'brought': 4, 'sorry': 4, 'temporary': 4, 'under': -4, 'killed': 4, 'gone': 4, '900': 4, 'quite': 4, 'weakness': 4, 'screen': 4, '190': 4, 'save': 4, 'tough': 4, 'downside': 4, 'lost': 4, 'below': -4, 'exit': 4, 'plunge': 4, 'dumped': 4, 'bull': 4, 'flush': 4, 'spy': 4, 'reality': 4, 'case': 4, 'worst': 4, '150s': 4, '160': 4, 'red': 4, 'personnel': 4, 'losing': 4, 'douche': 4, 'dead': 4, '1800': 4, 'debt': 4, 'worse': 4, 'zero': 4, 'change': 4, 'tank': 4, 'drop': 4, 'priced': 4, 'slipped': 4, 'bearish': 4, 'crash': 4, 'down': -4, 'fade': 4, 'selloff': 4, 'dropping': 4, 'fraud': 4, 'po': 4, 'death': 4, 'put': 4, 'lower': 4, 'scam': 4, 'dropped': 4, 'overvalued': 4, 'fall': 4, 'declined': 4, 'fell': 4, 'dump': 4, 'decreased': 4, 'usd': 4, 'billion': 4, 'used': 4, 'profitable': 4, 'reported': 4, 'filled': 4, 'operator': 4, 'compare': 4, 'prepared': 4, 'illion': 4, 'operation': 4, 'european': 4, 'm3': 4, 'win': 4, 'culture': 4, 'otherwise': 4, 'bargain': 4, 'fan': 4, 'neste': 4, 'upm': 4, 'agricultural': 4, 'hydrogen': 4, 'latest': 4, 'thesis': 4, 'child': 4, 'behind': 4, 'mistake': 4, 'facility': 4, 'college': 4, 'fact': 4, 'hourly': 4, 'alot': 4, 'touch': 4, 'thats': 4, 'bath': 4, 'close': 4, 'e': 4, 'else': 4, 'webinar': 4, 'na': 4, 'downward': 4, 'role': 4, 'uh': 4, 'wynn': 4, 'chart': 4, 'act': 4, 'policy': 4, 'listening': 4, 'challenging': 4, 'plant': 4, 'adjust': 4, 'compared': 4, '01': 4, 'operating': 4, 'million': 4, '03': 4, '241': 4, '28': 4, '04': 4, 'circuit': 4, 'pretty': 4, 'talentum': 4, 'sainsbury': 4, 'gain': 4, 'completely': 4, 'worthless': 4, 'southern': 4, 'mark': 4, 'future': 4, 'also': 4, 'longer': 4, 'gave': 4, 'believe': 4, 'wife': 4, 'game': 4, 'swinging': 4, 'friendly': 4, 'crackheads': 4, 'flagging': 4, 'panicking': 4, 'seng': 4, 'calling': 4, 'resulted': 4, 'opened': 4, 'recognized': 4, 'acquired': 4, 'installed': 4, 'record': 4, 'crossed': 4, 'recorded': 4, 'wednesday': 4, 'pill': 4, 'everything': 4, 'shoulder': 4, 'rock': 4, 'family': 4, 'tape': 4, 'usually': 4, 'holder': 4, 'iphone': 4, 'phone': 4, 'type': 4, 'unbelievable': 4, 'note': 4, 'layoff': 4, 'loan': 4, 'meet': 4, 'lawsuit': 4, 'biohit': 4, 'market': 4, 'throw': 4, 'lead': 4, 'treat': 4, 'eod': 4, 'mid': 4, '1900': 4, 'help': 4, 'abp': 4, 'app': 4, 'trip': 4, 'tip': 4, 'slap': 4, 'bottom': 4, 'growth': 4, 'forest': 4, 'regarding': 4, 'mad': 4, 'mountain': 4, 'spend': 4, 'tallinn': 4, 'designed': 4, 'mile': 4, 'burned': 4, 'need': 4, '170s': 4, 'ev': 4, 'upward': 4, 'framework': 4, 'welcome': 4, 'wash': 4, 'happens': 4, 'dive': 4, 'wasnt': 4, 'basis': 4, 'chain': 4, '50ma': 4, 'serving': 4, 'crisis': 4, 'announcement': 4, 'structure': 4, 'confidence': 4, 'fantastic': 4, 'via': 4, 'talvivaara': 4, 'math': 4, 'korea': 4, 'mega': 4, 'wireless': 4, 'morrison': 4, 'expire': 4, 'producer': 4, 'october': 4, 'register': 4, 'merger': 4, 'desperate': 4, 'uber': 4, 'user': 4, 'recover': 4, '2020': 4, '245': 4, '2019': 4, '218': 4, '234': 4, 'ba': 4, 'home': 4, 'suck': 4, 'trick': 4, 'blame': 4, 'bbl': 4, 'joke': 4, 'certain': 4, 'power': 4, 'fiscal': 4, 'presence': 4, 'larger': 4, 'secure': 4, 'sit': 4, 'south': 4, 'speak': 4, 'glad': 4, 'scary': 4, 'legal': 4, 'ah': 4, 'surge': 4, 'rush': 4, 'data': 4, 'flexible': 4, 'ftse': 4, 'line': 4, 'lmao': 4, 'shift': 4, 'slightly': 4, 'bust': 4, 'shut': 4, 'sunday': 4, 'yoy': 4, 'golden': 4, 'dark': 4, 'see': 4, 'trade': 4, 'bye': 4, 'badly': 4, 'gl': 4, 'wave': 4, 'sad': 4, 'àland': 4, 'program': 4, 'sand': 4, 'main': 4, 'victory': 4, 'glta': 4, 'telemig': 4, 'liquidity': 4, 'analyst': 4, 'didnt': 4, 'private': 4, 'retrace': 4, 'despite': 4, 'additional': 4, 'american': 4, 'office': 4, 'russia': 4, 'cheer': 4, 'greatest': 4, 'thin': 4, 'possibility': 4, 'marketing': 4, 'bitcoin': 4, 'broadband': 4, 'speaks': 4, 'exactly': 4, 'big': 4, 'go': 4, 'buyback': 4, 'wake': 4, 'book': 4, 'bk': 4, 'bhp': 4, 'food': 4, 'closed': 4, 'scheduled': 4, 'given': 4, 'begin': 4, 'bash': 4, 'baggies': 4, 'overnight': 4, 'laughable': 4, 'norway': 4, 'rally': 4, 'often': 4, 'extension': 4, 'decision': 4, 'rare': 4, 'problem': 4, 'promise': 4, 'selected': 4, 'reminder': 4, 'continues': 4, 'telecommunication': 4, 'index': 4, 'equipment': 4, 'mac': 4, 'content': 4, 'printing': 4, 'panostaja': 4, 'president': 4, 'thing': 4, 'showing': 4, 'laughing': 4, 'among': 4, 'timmy': 4, 'fang': 4, 'squeezing': 4, 'fill': 4, 'appears': 4, 'darn': 4, 'negative': 4, 'noon': 4, 'nov': 4, 'learn': 4, 'keyboard': 4, 'happened': 4, 'tv': 4, 'tmrw': 4, 'tweet': 4, 'dummy': 4, 'think': 4, 'slight': 4, 'yhoo': 4, 'flight': 4, 'gift': 4, 'supply': 4, 'tie': 4, 'gunna': 4, 'absolutely': 4, 'still': 4, 'fool': 4, 'stage': 4, 'somebody': 4, 'winning': 4, 'digia': 4, 'rising': 4, 'plenty': 4, 'capability': 4, 'using': 4, 'eye': 4, 'jeff': 4, 'bar': 4, 'fk': 4, 'follow': 4, 'bankrupt': 4, 'wait': 4, 'btches': 4, 'trim': 4, 'friday': 4, 'information': 4, 'formation': 4, 'administration': 4, 'institution': 4, 'organization': 4, 'consider': 4, 'sick': 4, 'hehe': 4, 'stuck': 4, 'stock': 4, 'beautiful': 4, 'measured': 4, 'exposed': 4, 'released': 4, 'guaranteed': 4, 'professional': 4, 'undervalued': 4, 'regular': 4, 'explosion': 4, 'overpriced': 4, 'serious': 4, 'planned': 4, 'measure': 4, 'shortsellers': 4, 'worth': 4, 'roll': 4, 'three': 4, 'every': 4, 'tonne': 4, 'secured': 4, 'llion': 4, 'expired': 4, 'opening': 4, 'expiring': 4, 'emerging': 4, 'install': 4, 'processing': 4, 'changed': 4, 'forestry': 4, 'mail': 4, 'wheres': 4, 'widened': 4, 'field': 4, 'uponor': 4, 'competitive': 4, 'steady': 4, 'cell': 4, 'sl': 4, 'chat': 4, 'sq': 4, 'feel': 4, 'stay': 4, 'stick': 4, 'paint': 4, 'come': 4, 'fyi': 4, 'strength': 4, 'moment': 4, 'safest': 4, 'ibm': 4, 'investing': 4, 'possible': 4, 'solar': 4, 'extremely': 4, 'terminal': 4, 'elons': 4, 'however': 4, 'choooo': 4, 'chooooo': 4, 'highly': 4, 'bigly': 4, 'sight': 4, 'lmaooo': 4, 'chooo': 4, 'buffett': 4, 'www': 4, 'btw': 4, 'btc': 4, 'way': 4, 'wow': 4, 'block': 4, 'claim': 4, 'outside': 4, 'city': 4, 'giant': 4, 'many': 4, 'aka': 4, 'signal': 4, 'develop': 4, 'indicator': 4, 'control': 4, 'maga': 4, 'industrial': 4, 'print': 4, 'citigroup': 4, 'decent': 4, '112': 4, '73': 4, '168': 4, '45': 4, '43': 4, '83': 4, 'manufacturer': 4, 'cramer': 4, 'rautaruukki': 4, 'election': 4, 'engineer': 4, 'reorganisation': 4, 'vaisala': 4, 'valuation': 4, 'factory': 4, 'til': 4, 'hasnt': 4, 'anymore': 4, 'leno': 4, 'application': 4, 'sanoma': 4, 'automaker': 4, 'distribution': 4, 'sachs': 4, 'manipulation': 4, 'arrangement': 4, 'viagra': 4, 'investor': 4, 'existing': 4, 'hating': 4, 'consolidating': 4, 'promising': 4, 'friend': 4, 'apparently': 4, 'redundant': 4, 'effect': 4, 'estonia': 4, 'send': 4, 'enables': 4, 'metal': 4, 'rinse': 4, 'noise': 4, 'people': 4, 'average': 4, 'rb': 4, 'deserve': 4, 'wearable': 4, 'drone': 4, 'prime': 4, 'social': 4, 'orange': 4, 'andele': 4, 'chemical': 4, 'space': 4, 'kymmene': 4, 'safe': 4, 'fresh': 4, 'informed': 4, 'income': 4, 'commission': 4, 'invested': 4, 'margin': 4, 'ruukki': 4, 'material': 4, 'fine': 4, 'financials': 4, '66': 4, '64': 4, '71': 4, '41': 4, '52': 4, 'eur0': 4, '72': 4, 'missing': 4, 'screaming': 4, 'factor': 4, 'lassila': 4, 'hand': 4, 'class': 4, 'glass': 4, '219': 4, '215': 4, '235': 4, '5x': 4, 'size': 4, 'came': 4, 'china': 4, 'choice': 4, 'nobody': 4, 'algo': 4, 'little': 4, 'wtf': 4, 'walk': 4, 'work': 4, 'across': 4, 'end': 4, 'io': 4, 'progress': 4, 'competitor': 4, 'minded': 4, 'previous': 4, 'ended': 4, 'proposal': 4, 'pls': 4, 'powerful': 4, 'model': 4, 'twtr': 4, 'texas': 4, 'another': 4, 'finally': 4, 'grab': 4, 'chatroom': 4, 'chanos': 4, 'intraday': 4, 'human': 4, 'candle': 4, 'storm': 4, 'developing': 4, 'trying': 4, 'working': 4, 'keeping': 4, 'shaking': 4, 'banking': 4, 'drug': 4, '24th': 4, '60': 4, '230': 4, 'jumped': 4, '170': 4, '130': 4, 'covered': 4, 'predicted': 4, 'fed': 4, 'powered': 4, 'included': 4, 'jedi': 4, 'hundred': 4, 'ex': 4, 'orion': 4, 'remained': 4, 'enron': 4, 'open': 4, 'finished': 4, 'elected': 4, 'equity': 4, 'ath': 4, 'delivery': 4, 'probably': 4, 'expiration': 4, 'finland': 4, 'prediction': 4, 'corporation': 4, 'present': 4, 'projection': 4, 'expectation': 4, 'provide': 4, 'satama': 4, 'cent': 4, 'topic': 4, 'fat': 4, 'fleet': 4, 'honest': 4, 'ago': 4, 'lowest': 4, 'wrong': 4, '2013': 4, '2021': 4, '205': 4, '2018': 4, '2017': 4, '200': 4, '202': 4, '2015': 4, 'department': 4, 'silicon': 4, 'commerce': 4, 'sector': 4, 'energy': 4, 'different': 4, 'function': 4, 'google': 4, 'bla': 4, 'bank': 4, 'bridge': 4, 'bus': 4, 'smell': 4, 'vol': 4, 'mind': 4, 'id': 4, 'turd': 4, 'microsoft': 4, 'john': 4, 'noted': 4, 'moved': 4, 'lowered': 4, 'yard': 4, 'jun': 4, 'damn': 4, 'alerted': 4, 'neuralink': 4, 'former': 4, 'founder': 4, 'harder': 4, 'secular': 4, 'series': 4, 'winner': 4, 'pig': 4, 'stop': 4, 'flow': 4, 'taking': 4, 'fucking': 4, 'picking': 4, 'eventually': 4, 'pork': 4, 'theyre': 4, 'rumor': 4, 'learning': 4, 'really': 4, 'transportation': 4, 'residential': 4, 'corporate': 4, 'day': 4, 'truck': 4, 'black': 4, 'throwing': 4, 'failing': 4, 'testing': 4, 'spring': 4, 'joint': 4, 'sleeping': 4, 'ag': 4, 'kaupthing': 4, 'faang': 4, 'playing': 4, 'seeing': 4, 'boring': 4, 'following': 4, 'leaving': 4, 'driving': 4, 'happening': 4, 'telling': 4, 'along': 4, 'timing': 4, 'beating': 4, 'brand': 4, 'chosen': 4, 'unfortunately': 4, 'battery': 4, 'deck': 4, 'sometimes': 4, 'ban': 4, 'page': 4, 'raising': 4, 'licensing': 4, 'ai': 4, 'technology': 4, 'charging': 4, 'cutting': 4, 'chairman': 4, 'lookin': 4, 'tonight': 4, 'shortly': 4, 'alright': 4, 'gold': 4, 'ball': 4, 'full': 4, 'center': 4, 'interim': 4, 'finger': 4, 'generation': 4, 'ratio': 4, 'disaster': 4, 'provider': 4, 'carrier': 4, 'december': 4, 'outlook': 4, 'facebook': 4, 'bbry': 4, 'wouldnt': 4, 'built': 4, 'truly': 4, 'body': 4, 'lucky': 4, 'never': 4, 'forever': 4, 'turnover': 4, 'nervous': 4, 'release': 4, 'afterhours': 4, 'experience': 4, 'pin': 4, 'land': 4, 'kind': 4, 'avg': 4, 'getting': 4, 'something': 4, 'loving': 4, 'mar': 4, 'em': 4, 'generated': 4, 'monster': 4, 'either': 4, 'related': 4, 'german': 4, 'siemens': 4, 'sustainable': 4, 'majority': 4, 'platform': 4, 'idea': 4, 'showed': 4, 'loved': 4, 'trapped': 4, '190s': 4, '180s': 4, 'split': 4, 'thus': 4, 'almost': 4, 'loose': 4, 'quick': 4, 'quote': 4, 'yeah': 4, 'quit': 4, 'half': 4, 'ready': 4, 'rejected': 4, 'expected': 4, 'pissed': 4, 'perfect': 4, 'surprised': 4, 'incredible': 4, 'strengthening': 4, 'aint': 4, 'stora': 4, 'consolidate': 4, 'tikanoja': 4, 'cash': 4, 'adjustment': 4, 'managing': 4, 'af': 4, 'bloomberg': 4, 'adam': 4, 'want': 4, 'check': 4, 'watching': 4, 'stake': 4, 'stockholm': 4, 'held': 4, 'tariff': 4, 'dust': 4, 'august': 4, 'turning': 4, 'clearly': 4, 'mobility': 4, 'start': 4, 'cencorp': 4, '3k': 4, 'next': 4, 'told': 4, 'junk': 4, 'gild': 4, 'rt': 4, 'kick': 4, 'lol': 4, 'ramping': 4, 'streaming': 4, 'popping': 4, 'edge': 4, 'june': 4, 'everywhere': 4, 'lease': 4, 'jonas': 4, '33': 4, 'eur10': 4, '97': 4, '2004': 4, '36': 4, '2006': 4, 'easily': 4, 'brother': 4, 'art': 4, 'premarket': 4, 'lemon': 4, 'even': 4, 'earning': 4, 'lining': 4, 'kinda': 4, 'shanghai': 4, 'sideways': 4, 'banana': 4, 'wall': 4, 'youll': 4, 'fuck': 4, 'product': 4, 'expansion': 4, 'economic': 4, 'elisa': 4, 'vacon': 4, 'elcoteq': 4, 'tanking': 4, 'building': 4, 'flying': 4, 'crushing': 4, 'viking': 4, 'thinking': 4, 'estate': 4, 'nordic': 4, 'tire': 4, 'april': 4, 'event': 4, 'th': 4, 'hurry': 4, 'least': 4, 'toast': 4, 'port': 4, 'threat': 4, 'beyond': 4, 'huh': 4, 'toy': 4, 'two': 4, 'tim': 4, 'swift': 4, 'link': 4, 'goin': 4, 'hat': 4, 'ticket': 4, 'window': 4, 'play': 4, 'gate': 4, 'ride': 4, 'steve': 4, 'advance': 4, 'de': 4, 'seem': 4, 'late': 4, 'haha': 4, 'lvl': 4, 'gotta': 4, 'raise': 4, 'imagine': 4, 'anywhere': 4, 'somewhere': 4, 'helping': 4, 'away': 4, 'tsla': 4, 'holiday': 4, 'tear': 4, 'announced': 4, 'furthermore': 4, 'efore': 4, 'season': 4, 'sawmill': 4, 'closer': 4, 'similar': 4, 'mine': 4, 'earnings': 4, 'motha': 4, 'thomson': 4, 'room': 4, 'great': 4, 'digit': 4, 'jim': 4, 'ahead': 4, 'amount': 4, 'expense': 4, 'shareholder': 4, 'dr': 4, 'lithuanian': 4, 'lotto': 4, 'jack': 4, 'tool': 4, 'gtfo': 4, 'mode': 4, 'curve': 4, 'trading': 4, 'asking': 4, 'paying': 4, 'saying': 4, 'itm': 4, 'card': 4, 'impressive': 4, 'afraid': 4, 'interest': 4, 'representative': 4, 'detail': 4, 'meanwhile': 4, 'excess': 4, 'nasty': 4, 'handset': 4, 'transport': 4, 'support': 4, 'alphabet': 4, '800': 4, '260': 4, '280': 4, '100': 4, '270': 4, '500': 4, '10': 4, '210': 4, 'weekend': 4, 'yall': 4, 'known': 4, 'looked': 4, 'btd': 4, 'journey': 4, 'luxury': 4, 'robot': 4, 'rough': 4, 'nope': 4, 'pe': 4, 'boy': 4, 'bag': 4, 'holy': 4, 'blow': 4, 'buyout': 4, 'park': 4, 'monthly': 4, 'tarrifs': 4, 'frankfurt': 4, 'stood': 4, 'hear': 4, 'autopilot': 4, 'crook': 4, 'shit': 4, 'sold': 4, 'quickly': 4, 'fellow': 4, 'float': 4, 'burning': 4, 'modern': 4, 'mineral': 4, 'outperform': 4, 'electrek': 4, 'venture': 4, 'penny': 4, 'hr': 4, 'surprise': 4, 'uncertainty': 4, 'estimate': 4, 'walmart': 4, 'yield': 4, 'trend': 4, 'party': 4, 'avoid': 4, 'minimum': 4, 'tmr': 4, 'aviva': 4, 'sea': 4, 'actual': 4, 'device': 4, 'date': 4, 'race': 4, 'someone': 4, 'site': 4, 'decade': 4, 'government': 4, 'manipulator': 4, 'active': 4, 'traffic': 4, 'technical': 4, 'christmas': 4, '27': 4, '204': 4, '203': 4, '29': 4, '299': 4, 'jumping': 4, 'tlt1v': 4, 'pop': 4, 'putting': 4, 'public': 4, 'ramp': 4, 'taken': 4, 'isnt': 4, 'opportunity': 4, 'huawei': 4, 'collapse': 4, 'went': 4, 'form': 4, 'federal': 4, 'japan': 4, 'obvious': 4, 'session': 4, 'anytime': 4, 'sue': 4, 'repair': 4, 'ordered': 4, 'chartered': 4, 'sale': 4, 'november': 4, 'faster': 4, 'forecast': 4, 'en': 4, 'extended': 4, 'area': 4, 'pressure': 4, 'upon': 4, 'macd': 4, 'signaled': 4, 'explained': 4, 'expensive': 4, 'agreed': 4, 'seasoned': 4, 'mnuchin': 4, 'approved': 4, 'celebrating': 4, 'director': 4, 'fish': 4, 'including': 4, 'tuesday': 4, 'laugh': 4, 'instead': 4, 'explains': 4, 'container': 4, 'direction': 4, 'overreaction': 4, 'protection': 4, 'integration': 4, 'crazy': 4, 'stx': 4, 'calm': 4, 'step': 4, 'ghost': 4, 'beast': 4, 'foot': 4, 'tomrw': 4, 'tho': 4, 'rebound': 4, 'billiton': 4, 'forward': 4, 'wanted': 4, 'treatment': 4, 'pony': 4, 'entry': 4, 'enabling': 4, 'ownership': 4, 'acquiring': 4, 'fighting': 4, 'eom': 4, 'crushed': 4, 'sep': 4, 'dumbest': 4, 'talking': 4, 'morning': 4, 'becoming': 4, 'smart': 4, 'towards': 4, 'board': 4, 'nflx': 4, 'yit': 4, 'squeezed': 4, 'eat': 4, 'ext': 4, 'william': 4, 'sp': 4, 'ip': 4, 'huhtamaki': 4, 'strip': 4, 'crap': 4, 'highest': 4, 'c': 4, 'momentum': 4, 'asap': 4, 'country': 4, 'spx': 4, 'lindex': 4, 'addition': 4, 'automation': 4, 'fishing': 4, 'acting': 4, 'samsung': 4, 'pricing': 4, 'mainly': 4, 'instrument': 4, 'litas': 4, 'offset': 4, 'found': 4, 'motor': 4, 'others': 4, 'easiest': 4, 'multi': 4, 'model3': 4, 'yes': 4, 'rich': 4, 'update': 4, 'notice': 4, 'announce': 4, 'able': 4, 'value': 4, 'alone': 4, 'hype': 4, 'versus': 4, 'commercial': 4, 'individual': 4, 'expands': 4, 'currently': 4, 'commitment': 4, 'ramirent': 4, 'zinc': 4, 'award': 4, 'retail': 4, 'resource': 4, 'reserve': 4, 'affect': 4, 'le': 4, 'joe': 4, 'drive': 4, 'vehicle': 4, 'whats': 4, 'vaahto': 4, 'already': 4, 'attempt': 4, 'volatility': 4, '360': 4, '1920': 4, '30': 4, '240': 4, '0': 4, '2nd': 4, 'raute': 4, 'issue': 4, '1600': 4, '00': 4, '600': 4, '198': 4, '19': 4, '75': 4, '199': 4, 'initial': 4, 'kemira': 4, 'include': 4, 'infrastructure': 4, 'efficiency': 4, 'official': 4, 'pharmaceutical': 4, 'customer': 4, 'tried': 4, 'regret': 4, 'round': 4, 'grabbed': 4, 'road': 4, 'bidding': 4, 'hitting': 4, 'letting': 4, 'forming': 4, 'climbing': 4, 'elevator': 4, 'emotional': 4, 'elon': 4, 'wonder': 4, 'hardware': 4, 'teliasonera': 4, 'ponsse': 4, 'channel': 4, 'range': 4, 'manipulate': 4, 'rapidly': 4, 'charge': 4, 'skf': 4, 'fuel': 4, 'bynd': 4, 'import': 4, 'effort': 4, 'jones': 4, 'lesson': 4, 'lithuania': 4, 'unless': 4, 'afternoon': 4, 'delighted': 4, 'head': 4, 'kesko': 4, 'tecnomen': 4, 'trendline': 4, 'brain': 4, 'functionality': 4, 'music': 4, 'stand': 4, 'arm': 4, 'looking': 4, 'highlight': 4, 'shop': 4, 'bozo': 4, 'tight': 4, 'totally': 4, 'loses': 4, 'locked': 4, 'touched': 4, 'mkt': 4, 'create': 4, 'sysopen': 4, 'rsi': 4, 'ran': 4, 'approval': 4, 'online': 4, 'eur7m': 4, '31': 4, 'eur2m': 4, 'liar': 4, 'blah': 4, 'doubt': 4, 'yellow': 4, 'local': 4, 'la': 4, 'triangle': 4, 'ab': 4, 'typical': 4, 'genius': 4, 'hedge': 4, 'disney': 4, 'luck': 4, 'got': 4, 'back': 4, 'lock': 4, 'get': 4, 'goodnight': 4, 'right': 4, 'bright': 4, 'boot': 4, '25': 4, '35': 4, '216': 4, '243': 4, '226': 4, '217': 4, 'fkin': 4, 'poland': 4, 'pct': 4, 'matti': 4, 'patent': 4, 'implement': 4, 'machinery': 4, 'ivrcl': 4, 'system': 4, 'okmetic': 4, 'vmc': 4, 'anti': 4, 'fixed': 4, 'position': 4, 'installation': 4, 'reaction': 4, 'confirmed': 4, 'competition': 4, 'find': 4, 'provided': 4, 'company': 4, 'year': 4, 'per': 4, 'proud': 4, 'created': 4, 'peaked': 4, 'owned': 4, 'surged': 4, 'pro': 4, 'fundamental': 4, 'store': 4, 'hahahaha': 4, 'guidance': 4, 'white': 4, 'anyone': 4, 'knew': 4, 'going': 4, 'g': 4, 'like': 4, 'escalator': 4, 'neutral': 4, 'recovering': 4, 'shooting': 4, 'closing': 4, '133': 4, '162': 4, '152': 4, '16': 4, '14': 4, '164': 4, '18': 4, '2h18': 4, 'handling': 4, 'law': 4, 'bn': 4, 'eow': 4, 'epstein': 4, 'expects': 4, 'internet': 4, 'implemented': 4, 'figure': 4, 'pulled': 4, '50': 4, '80': 4, '1950': 4, 'ebit': 4, 'eur': 4, 'mn': 4, 'eur12': 4, 'eur1': 4, '56': 4, 'eur7': 4, 'eur2': 4, '54': 4, 'eur4': 4, 'taxi': 4, 'exp': 4, 'past': 4, 'must': 4, 'shine': 4, 'cable': 4, 'dominate': 4, 'place': 4, 'handle': 4, 'frame': 4, 'waste': 4, 'simple': 4, 'take': 4, 'chop': 4, 'stk': 4, 'adp': 4, 'team': 4, 'honestly': 4, 'button': 4, 'hanging': 4, 'export': 4, 'met': 4, 'bond': 4, 'toward': 4, 'crush': 4, '24': 4, '169': 4, '236': 4, 'atrium': 4, 'yikes': 4, 'target': 4, 'bos': 4, 'without': 4, 'build': 4, 'kept': 4, 'bloodbath': 4, 'left': 4, 'bad': 4, 'york': 4, 'airport': 4, 'important': 4, 'watch': 4, 'heading': 4, 'crashing': 4, 'normal': 4, 'alpha': 4, 'multiple': 4, 'vessel': 4, 'july': 4, 'rigged': 4, 'boosted': 4, 'kroon': 4, 'direct': 4, 'relationship': 4, 'institutional': 4, 'location': 4, 'keep': 4, 'bg': 4, 'guy': 4, 'know': 4, 'hk': 4, 'stable': 4, 'large': 4, 'africa': 4, 'animal': 4, 'use': 4, 'nyse': 4, 'everyone': 4, 'new': 4, 'news': 4, 'super': 4, 'liter': 4, 'september': 4, 'possibly': 4, 'returned': 4, 'excited': 4, 'trillion': 4, 'profitability': 4, 'fit': 4, 'fourth': 4, 'overall': 4, 'healthcare': 4, 'sure': 4, 'feature': 4, 'tiimari': 4, 'real': 4, 'mean': 4, 'funding': 4, 'omg': 4, 'trending': 4, 'co': 4, 'sending': 4, 'according': 4, 'autumn': 4, 'yea': 4, 'robinhood': 4, 'single': 4, 'electronic': 4, 'dec': 4, 'conference': 4, 'incentive': 4, 'cancer': 4, 'emirate': 4, 'make': 4, 'shot': 4, 'night': 4, 'bet': 4, 'thought': 4, 'would': 4, 'boat': 4, 'tock': 4, 'took': 4, 'pinned': 4, 'involved': 4, '2007': 4, '2008': 4, '2005': 4, '37': 4, '57': 4, 'wondering': 4, 'ten': 4, 'ixonos': 4, 'air': 4, 'performing': 4, 'expenditure': 4, 'personal': 4, 'brief': 4, '62': 4, '4': 4, 'eur5': 4, '81': 4, '61': 4, 'analysis': 4, 'exchange': 4, 'plane': 4, 'kazakhstan': 4, 'approximately': 4, 'synergy': 4, 'berkshire': 4, 'democrat': 4, 'six': 4, 'significantly': 4, 'safety': 4, 'domestic': 4, 'ceo': 4, '111': 4, 'euro': 4, 'manager': 4, 'aker': 4, 'remains': 4, 'international': 4, 'major': 4, 'bln': 4, 'hd': 4, 'mill': 4, '70': 4, 'happy': 4, 'finnlines': 4, 'cheaper': 4, 'matter': 4, 'later': 4, 'dealer': 4, 'placed': 4, 'pattern': 4, 'final': 4, 'calendar': 4, 'participant': 4, 'afx': 4, 'attack': 4, 'slowly': 4, 'okay': 4, 'focus': 4, 'digital': 4, '47': 4, '79': 4, '77': 4, '98': 4, '1': 4, 'morgan': 4, 'nokia': 4, 'approach': 4, 'literally': 4, 'five': 4, 'minute': 4, 'broker': 4, 'life': 4, 'brazil': 4, 'tree': 4, 'stocktwits': 4, 'triple': 4, 'ask': 4, 'ad': 4, 'within': 4, 'barely': 4, 'band': 4, 'altaba': 4, 'horizon': 4, 'achieve': 4, 'danske': 4, 'damage': 4, 'knife': 4, 'age': 4, 'worldwide': 4, 'boost': 4, 'tomorrow': 4, 'today': 4, 'hit': 4, 'fight': 4, 'microgrid': 4, 'supposed': 4, 'estimated': 4, 'inverted': 4, 'vwap': 4, 'nice': 4, 'se': 4, 'ive': 4, 'rule': 4, 'dc': 4, 'balance': 4, 'adpnews': 4, 'survive': 4, 'rival': 4, 'konecranes': 4, '86': 4, '74': 4, '44': 4, '84': 4, '94': 4, 'forced': 4, 'cant': 4, 'bounced': 4, 'alert': 4, 'needed': 4, '5th': 4, '4th': 4, 'speed': 4, 'roasted': 4, '3': 4, '87': 4, '32': 4, '67': 4, 'coin': 4, 'expanding': 4, 'spending': 4, 'xi': 4, 'sampo': 4, '38': 4, '99': 4, '58': 4, '2': 4, 'flop': 4, 'output': 4, 'cook': 4, 'underlying': 4, 'sitting': 4, 'study': 4, 'hang': 4, 'aapl': 4, 'impact': 4, 'published': 4, 'course': 4, 'protest': 4, 'excluding': 4, 'deliver': 4, 'tezzler': 4, 'amd': 4, 'amid': 4, 'especially': 4, 'googl': 4, 'map': 4, 'jd': 4, 'secret': 4, 'established': 4, 'controlled': 4, 'spacex': 4, 'mama': 4, 'manufacturing': 4, 'argument': 4, 'affecto': 4, 'strengthen': 4, 'leaked': 4, 'followed': 4, 'realize': 4, 'benefit': 4, 'favourable': 4, 'iran': 4, 'break': 4, 'bp': 4, 'started': 4, 'reason': 4, 'dragged': 4, 'miss': 4, 'carried': 4, 'reward': 4, '91': 4, 'eur15': 4, 'accumulating': 4, 'pace': 4, 'heck': 4, 'hell': 4, 'slow': 4, 'sleep': 4, 'try': 4, 'owner': 4, 'crossover': 4, 'passenger': 4, 'difference': 4, 'enable': 4, 'mobile': 4, 'semi': 4, 'necessary': 4, 'canceled': 4, 'history': 4, 'crack': 4, 'current': 4, 'component': 4, 'chip': 4, 'inevitable': 4, 'relative': 4, 'engine': 4, 'comparable': 4, 'sek': 4, 'wipe': 4, 'around': 4, 'slammed': 4, 'heard': 4, 'read': 4, 'northern': 4, 'picked': 4, 'story': 4, '5': 4, '120': 4, '2100': 4, '225': 4, '420': 4, 'scalp': 4, 'heavily': 4, 'gigafactory': 4, 'daily': 4, 'chugga': 4, 'state': 4, 'steel': 4, '1990': 4, '180': 4, '350': 4, '1980': 4, '230s': 4, 'jail': 4, 'ferry': 4, 'pa': 4, 'front': 4, 'security': 4, 'carbon': 4, 'annual': 4, 'suominen': 4, 'magazine': 4, 'airline': 4, 'invite': 4, 'nd': 4, '51': 4, '76': 4, 'account': 4, 'beer': 4, 'several': 4, 'article': 4, 'dollar': 4, 'route': 4, 'eb': 4, 'earlier': 4, 'brings': 4, 'annually': 4, 'ridiculous': 4, 'soon': 4, '259': 4, 'ly': 4, 'track': 4, 'likely': 4, '2011': 4, 'sweet': 4, 'bullish': 4, 'saved': 4, 'received': 4, 'property': 4, 'unit': 4, 'school': 4, 'sexy': 4, 'lately': 4, 'girl': 4, 'awesome': 4, '140': 4, '175': 4, 'inversion': 4, 'wont': 4, 'wa': 4, 'silly': 4, 'fortune': 4, 'deep': 4, '85': 4, 'congress': 4, 'ipo': 4, 'core': 4, 'ending': 4, 'currency': 4, 'roku': 4, 'report': 4, '3rd': 4, 'united': 4, 'expert': 4, 'return': 4, 'delivered': 4, 'hearing': 4, 'quality': 4, 'enso': 4, 'rosenblatt': 4, 'selling': 4, 'android': 4, 'therefore': 4, 'metso': 4, 'st': 4, 'pocket': 4, 'plug': 4, 'territory': 4, 'london': 4, 'war': 4, 'u': 4, 'phase': 4, 'revenue': 4, 'seller': 4, 'pt': 4, 'jul': 4, 'nut': 4, '90': 4, '93': 4, 'pivot': 4, 'pilot': 4, 'style': 4, 'ppl': 4, 'floor': 4, 'guess': 4, 'kiss': 4, 'executive': 4, 'money': 4, 'purchase': 4, 'portfolio': 4, 'automotive': 4, 'smh': 4, 'historical': 4, 'superior': 4, 'er': 4, 'profile': 4, 'four': 4, 'outotec': 4, 'explain': 4, 'mexico': 4, 'strengthened': 4, 'expecting': 4, 'sense': 4, 'trader': 4, 'acquire': 4, 'bang': 4, 'bankruptcy': 4, 'understanding': 4, 'combine': 4, 'info': 4, 'producing': 4, 'workforce': 4, 'face': 4, 'nickel': 4, 'db': 4, '173': 4, 'canada': 4, 'sbux': 4, 'stuff': 4, 'doe': 4, 'feed': 4, 'lb': 4, 'light': 4, 'bout': 4, 'shoot': 4, 'max': 4, 'common': 4, 'crew': 4, '15': 4, '165': 4, 'totaled': 4, 'totalled': 4, 'vw': 4, '163': 4, '178': 4, '176': 4, 'fiber': 4, 'yr': 4, 'perform': 4, 'insurer': 4, 'easier': 4, 'earn': 4, 'pain': 4, 'complete': 4, 'firm': 4, 'said': 4, 'componenta': 4, 'computer': 4, 'increasing': 4, 'correct': 4, 'combined': 4, 'fiskars': 4, 'definitely': 4, 'clean': 4, 'couple': 4, 'obviously': 4, 'straight': 4, 'mining': 4, 'level': 4, 'move': 4, 'shall': 4, 'bounce': 4, 'mo': 4, 'court': 4, '1st': 4, 'cloud': 4, 'subsidiary': 4, 'stupid': 4, 'owns': 4, 'pretax': 4, 'mentioned': 4, 'anyway': 4, 'situation': 4, 'acquisition': 4, 'association': 4, 'software': 4, 'group': 4, 'onto': 4, 'slack': 4, 'pullback': 4, 'double': 4, 'recently': 4, 'gonna': 4, 'huge': 4, 'rental': 4, 'wide': 4, 'globally': 4, 'fully': 4, 'youtube': 4, 'tell': 4, 'ok': 4, 'union': 4, 'dry': 4, 'restructuring': 4, 'bone': 4, 'bitch': 4, 'volume': 4, 'hole': 4, 'cry': 4, 'may': 4, 'catch': 4, 'led': 4, 'tyre': 4, 'fossil': 4, 'specialist': 4, 'parabolic': 4, 'deal': 4, 'gf3': 4, 'doyu': 4, '1m': 4, 'retailer': 4, 'evening': 4, 'lse': 4, 'yo': 4, 'realized': 4, 'grain': 4, 'swedish': 4, 'stainless': 4, 'access': 4, 'inbev': 4, 'delayed': 4, 'added': 4, 'pure': 4, 'amp': 4, 'pulp': 4, 'pumping': 4, 'jp': 4, 'gap': 4, 'twitter': 4, 'silver': 4, 'radar': 4, 'wiped': 4, 'eps': 4, 'non': 4, 'eastern': 4, 'trump': 4, 'jump': 4, '65': 4, '17': 4, 'street': 4, 'significant': 4, 'cargotec': 4, 'glaston': 4, 'wish': 4, 'sh': 4, 'seems': 4, 'singapore': 4, 'australia': 4, 'comptel': 4, 'sliding': 4, 'tesco': 4, 'riding': 4, 'lifting': 4, 'otm': 4, 'rug': 4, 'tech': 4, 'hello': 4, 'lab': 4, 'construction': 4, 'contract': 4, 'decided': 4, 'relax': 4, 'process': 4, 'battle': 4, 'belief': 4, 'pick': 4, 'continuing': 4, 'century': 4, 'week': 4, 'changing': 4, 'shipping': 4, 'hater': 4, 'attention': 4, 'movement': 4, 'camera': 4, 'potential': 4, 'papa': 4, 'engineering': 4, 'sweden': 4, 'glencore': 4, 'pacific': 4, 'candidate': 4, 'inside': 4, 'compete': 4, 'introduced': 4, 'opposite': 4, 'pursue': 4, 'represents': 4, 'inc': 4, 'management': 4, 'raisio': 4, 'reporting': 4, 'underwater': 4, 'poyry': 4, 'killing': 4, 'nothing': 4, 'outcome': 4, 'latvia': 4, 'enters': 4, 'water': 4, 'exciting': 4, 'rolling': 4, 'industry': 4, 'cramo': 4, 'crypto': 4, 'might': 4, 'top': 4, 'let': 4, 'mongering': 4, 'anything': 4, 'pharma': 4, 'bid': 4, 'borrower': 4, 'clear': 4, 'headed': 4, 'coming': 4, 'usual': 4, 'jay': 4, 'though': 4, 'loading': 4, 'box': 4, 'thanks': 4, 'answer': 4, 'follower': 4, 'crane': 4, 'rice': 4, 'strategy': 4, 'djia': 4, 'attractive': 4, '206': 4, 'cool': 4, 'train': 4, 'audi': 4, 'breaking': 4, 'aimed': 4, 'recommend': 4, 'add': 4, 'noticed': 4, 'broke': 4, 'web': 4, 'financing': 4, 'option': 4, 'hint': 4, 'sto': 4, 'fda': 4, 'yet': 4, 'client': 4, 'network': 4, 'sverige': 4, 'available': 4, 'version': 4, 'meaning': 4, 'oil': 4, '15th': 4, 'invoice': 4, 'price': 4, 'dividend': 4, 'excellent': 4, 'germany': 4, 'apple': 4, 'sport': 4, 'nokian': 4, 'prove': 4, '101': 4, '53': 4, '211': 4, '212': 4, '26': 4, '227': 4, '21': 4, 'segment': 4, 'plan': 4, 'manufacture': 4, 'brazilian': 4, 'continuation': 4, 'provides': 4, 'connected': 4, 'representing': 4, 'ur': 4, 'california': 4, 'clue': 4, 'opinion': 4, '3g': 4, 'ltd': 4, 'mu': 4, '08': 4, 'eur13': 4, 'eur3': 4, '7': 4, 'h1': 4, 'moving': 4, 'providing': 4, 'comment': 4, 'true': 4, 'happen': 4, 'mon': 4, 'enter': 4, 'percentage': 4, 'pfizer': 4, 'imo': 4, 'invest': 4, 'point': 4, 'campaign': 4, 'investment': 4, 'rapala': 4, 'produce': 4, 'finance': 4, 'lot': 4, 'car': 4, 'care': 4, 'star': 4, 'basware': 4, 'pension': 4, 'always': 4, 'closely': 4, 'classic': 4, 'consumer': 4, 'time': 4, 'confirmation': 4, 'mention': 4, 'saudi': 4, 'nordea': 4, '15min': 4, 'stopped': 4, 'cap': 4, 'pfe': 4, 'played': 4, 'cargo': 4, 'early': 4, 'called': 4, 'confirm': 4, 'aspo': 4, 'last': 4, 'loaded': 4, 'bigger': 4, 'royal': 4, 'russian': 4, 'innovative': 4, 'dont': 4, 'busted': 4, '6': 4, '55': 4, 'corner': 4, 'interested': 4, 'demand': 4, 'better': 4, 'sucker': 4, 'sooner': 4, '2010': 4, '209': 4, 'aug': 4, 'consumption': 4, 'could': 4, '240s': 4, 'pack': 4, 'powell': 4, 'made': 4, 'picture': 4, 'eek': 4, 'buyer': 4, 'stockmann': 4, 'kill': 4, 'pay': 4, 'ha': 4, 'cute': 4, 'europe': 4, '171': 4, '000': 4, 'loser': 4, 'wed': 4, 'sabmiller': 4, 'finnair': 4, 'pathetic': 4, 'tax': 4, 'operational': 4, 'financial': 4, 'irish': 4, 'bot': 4, 'hot': 4, 'sharing': 4, 'norwegian': 4, 'cmon': 4, 'look': 4, 'resistance': 4, 'petersburg': 4, 'kone': 4, 'rewarded': 4, 'aq': 4, 'etc': 4, 'hop': 4, 'first': 4, 'net': 4, 'asian': 4, 'receive': 4, 'search': 4, 'nonsense': 4, 'maximum': 4, '298': 4, 'profit': 4, '232': 4, 'helsinki': 4, 'fremont': 4, 'agn': 4, 'one': 4, 'netflix': 4, 'upgraded': 4, 'free': 4, 'asia': 4, 'aktia': 4, 'development': 4, 'automatic': 4, 'shire': 4, 'central': 4, 'kci': 4, 'astrazeneca': 4, 'maintenance': 4, 'prior': 4, '20': 4, '2025': 4, '23': 4, 'waiting': 4, 'deutsche': 4, 'piece': 4, 'rip': 4, 'con': 4, 'insane': 4, 'ticker': 4, 'performance': 4, 'india': 4, 'kong': 4, 'tesla': 4, 'peak': 4, 'sack': 4, 'setting': 4, 'pipeline': 4, 'communication': 4, 'wagon': 4, 'refining': 4, 'considering': 4, 'accumulation': 4, 'disruption': 4, '238': 4, '22': 4, 'innovation': 4, 'sentiment': 4, 'statement': 4, 'term': 4, 'rapid': 4, 'concept': 4, 'since': 4, 'logistics': 4, 'strategic': 4, 'ponzi': 4, 'parent': 4, 'paid': 4, 'affected': 4, 'january': 4, 'rating': 4, 'initiated': 4, 'dam': 4, 'reduce': 4, 'subscription': 4, 'adding': 4, 'agree': 4, 'chase': 4, 'force': 4, 'hold': 4, 'hong': 4, 'long': 4, 'nv': 4, 'perspective': 4, 'fb': 4, 'monday': 4, 'yep': 4, 'amazon': 4, '39': 4, '207': 4, 'ton': 4, '5g': 4, 'spot': 4, 'share': 4, 'offering': 4, '220': 4, '20k': 4, 'together': 4, 'push': 4, 'outokumpu': 4, 'thx': 4, 'p': 4, 'advanced': 4, 'cooperation': 4, 'vuzix': 4, 'say': 4, 'pohjola': 4, '185': 4, '194': 4, '192': 4, '1h19': 4, 'seppala': 4, 'zone': 4, '8': 4, 'count': 4, 'fast': 4, 'lose': 4, 'saw': 4, 'charger': 4, 'nq': 4, 'server': 4, 'felon': 4, 'finding': 4, 'billionaire': 4, 'jpm': 4, 'alternative': 4, 'com': 4, 'pr': 4, 'fix': 4, 'second': 4, 'omx': 4, 'x201a': 4, 'third': 4, 'jmo': 4, 'dumb': 4}\n"
          ]
        }
      ],
      "source": [
        "import json\n",
        "tf = open(filepath+\"dizionario/Dizionario_finance.json\", \"r\")\n",
        "new_words = json.load(tf)\n",
        "print(new_words)"
      ]
    },
    {
      "cell_type": "markdown",
      "metadata": {
        "id": "W2nBKNTMmpQq"
      },
      "source": [
        "# Assegnazione pesi inserendo 4"
      ]
    },
    {
      "cell_type": "code",
      "execution_count": null,
      "metadata": {
        "id": "lkzX262fQ8fJ"
      },
      "outputs": [],
      "source": [
        "\n",
        "diz={}\n",
        "a=0\n",
        "for i in list(new_words.keys()):\n",
        "  for j in range(0,9):\n",
        "    if ft_model.wv.most_similar(i)[j][1]>0.99: #Riferita a ogni parola del dizionario, si selezionata la più simile con punteggio maggiore di 0.99 e si inserisce 4\n",
        "      diz[ft_model.wv.most_similar(i)[j][0]]=4\n",
        "    elif ft_model.wv.most_similar(i)[j][1]>0.99 and new_words[i]==-4: #Riferita a ogni parola del dizionario, si selezionata la più simile con punteggio maggiore di 0.99 e si inserisce -4\n",
        "      diz[ft_model.wv.most_similar(i)[j][0]]=-4\n",
        "    else:\n",
        "      break\n"
      ]
    },
    {
      "cell_type": "markdown",
      "metadata": {
        "id": "zSBP4dTbmzgP"
      },
      "source": [
        "# Weight assignment by increasing by 1"
      ]
    },
    {
      "cell_type": "markdown",
      "metadata": {
        "id": "hWNObk2MoA2x"
      },
      "source": [
        "## Importing the vader lexicon dictionary"
      ]
    },
    {
      "cell_type": "code",
      "execution_count": null,
      "metadata": {
        "id": "RjKgsxFDfxJv"
      },
      "outputs": [],
      "source": [
        "vader = pd.read_csv(filepath+'data/Vader.csv', delimiter=\";\",names=[\"nome\",\"valore\"])\n",
        "d =  dict([([a,b]) for a,b in zip(vader['nome'], vader['valore'])])"
      ]
    },
    {
      "cell_type": "code",
      "execution_count": null,
      "metadata": {
        "colab": {
          "base_uri": "https://localhost:8080/",
          "height": 105
        },
        "id": "NAKBpo9EicUl",
        "outputId": "ba23b3a4-1598-4f7e-97d4-9bee3448f021"
      },
      "outputs": [
        {
          "data": {
            "application/vnd.google.colaboratory.intrinsic+json": {
              "type": "string"
            },
            "text/plain": [
              "'\\ndiz={}\\nfor i in list(new_words.keys()):\\n  for j in range(0,9):\\n\\n    if ft_model.wv.most_similar(i)[j][1]>0.99 and new_words[i]==4 and ft_model.wv.most_similar(i)[j][0] not in list(new_words.keys()) :\\n      if ft_model.wv.most_similar(i)[j][0] in list(d.keys()):\\n        diz[ft_model.wv.most_similar(i)[j][0]]=d[ft_model.wv.most_similar(i)[j][0]]+1\\n      else:\\n        diz[ft_model.wv.most_similar(i)[j][0]]=3.5\\n\\n    elif ft_model.wv.most_similar(i)[j][1]>0.99 and new_words[i]==-4 and ft_model.wv.most_similar(i)[j][0] not in list(new_words.keys()):\\n      if ft_model.wv.most_similar(i)[j][0] in list(d.keys()):\\n        diz[ft_model.wv.most_similar(i)[j][0]]=d[ft_model.wv.most_similar(i)[j][0]]-1\\n      else:\\n        diz[ft_model.wv.most_similar(i)[j][0]]=-3.5\\n\\n    else:\\n      break\\n'"
            ]
          },
          "execution_count": 131,
          "metadata": {},
          "output_type": "execute_result"
        }
      ],
      "source": [
        "'''\n",
        "diz={}\n",
        "for i in list(new_words.keys()):\n",
        "  for j in range(0,9):\n",
        "\n",
        "    if ft_model.wv.most_similar(i)[j][1]>0.99 and new_words[i]==4 and ft_model.wv.most_similar(i)[j][0] not in list(new_words.keys()) :\n",
        "      if ft_model.wv.most_similar(i)[j][0] in list(d.keys()):\n",
        "        diz[ft_model.wv.most_similar(i)[j][0]]=d[ft_model.wv.most_similar(i)[j][0]]+1\n",
        "      else:\n",
        "        diz[ft_model.wv.most_similar(i)[j][0]]=3.5\n",
        "\n",
        "    elif ft_model.wv.most_similar(i)[j][1]>0.99 and new_words[i]==-4 and ft_model.wv.most_similar(i)[j][0] not in list(new_words.keys()):\n",
        "      if ft_model.wv.most_similar(i)[j][0] in list(d.keys()):\n",
        "        diz[ft_model.wv.most_similar(i)[j][0]]=d[ft_model.wv.most_similar(i)[j][0]]-1\n",
        "      else:\n",
        "        diz[ft_model.wv.most_similar(i)[j][0]]=-3.5\n",
        "\n",
        "    else:\n",
        "      break\n",
        "'''"
      ]
    },
    {
      "cell_type": "markdown",
      "metadata": {
        "id": "RrSJAoKZnAYO"
      },
      "source": [
        "# Updating and saving"
      ]
    },
    {
      "cell_type": "code",
      "execution_count": null,
      "metadata": {
        "id": "y2-7jEAWVYTT"
      },
      "outputs": [],
      "source": [
        "new_words.update(diz)\n",
        "import json\n",
        "tf = open(filepath+\"dizionario/Dizionario_finance.json\", \"w\")\n",
        "json.dump(new_words,tf)\n",
        "tf.close()"
      ]
    }
  ],
  "metadata": {
    "accelerator": "GPU",
    "colab": {
      "collapsed_sections": [],
      "name": "Parole_Simili.ipynb",
      "provenance": []
    },
    "kernelspec": {
      "display_name": "Python 3",
      "language": "python",
      "name": "python3"
    },
    "language_info": {
      "codemirror_mode": {
        "name": "ipython",
        "version": 3
      },
      "file_extension": ".py",
      "mimetype": "text/x-python",
      "name": "python",
      "nbconvert_exporter": "python",
      "pygments_lexer": "ipython3",
      "version": "3.9.4"
    },
    "toc": {
      "base_numbering": 1,
      "nav_menu": {},
      "number_sections": true,
      "sideBar": true,
      "skip_h1_title": false,
      "title_cell": "Table of Contents",
      "title_sidebar": "Contents",
      "toc_cell": false,
      "toc_position": {
        "height": "calc(100% - 180px)",
        "left": "10px",
        "top": "150px",
        "width": "238.475px"
      },
      "toc_section_display": true,
      "toc_window_display": true
    }
  },
  "nbformat": 4,
  "nbformat_minor": 0
}
