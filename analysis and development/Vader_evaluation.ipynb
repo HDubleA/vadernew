{
  "cells": [
    {
      "cell_type": "code",
      "execution_count": null,
      "metadata": {
        "colab": {
          "base_uri": "https://localhost:8080/"
        },
        "id": "rJ7ldJmaKJtR",
        "outputId": "9cb1dd77-cb49-4aa5-e81a-a5f89dd3b069"
      },
      "outputs": [
        {
          "name": "stdout",
          "output_type": "stream",
          "text": [
            "Drive already mounted at /content/drive; to attempt to forcibly remount, call drive.mount(\"/content/drive\", force_remount=True).\n"
          ]
        }
      ],
      "source": [
        "from google.colab import drive\n",
        "drive.mount('/content/drive')"
      ]
    },
    {
      "cell_type": "code",
      "execution_count": null,
      "metadata": {
        "id": "KMXITmbJKLcA"
      },
      "outputs": [],
      "source": [
        "filepath = '/content/drive/MyDrive/Progetto Colab/'"
      ]
    },
    {
      "cell_type": "markdown",
      "metadata": {
        "id": "yAd7qKAiuGHb"
      },
      "source": [
        "# Dictionary extraction"
      ]
    },
    {
      "cell_type": "code",
      "execution_count": null,
      "metadata": {
        "colab": {
          "base_uri": "https://localhost:8080/"
        },
        "id": "liiQsFogJwAP",
        "outputId": "ab603713-4c33-426e-a43a-b6aa948ba7c5"
      },
      "outputs": [
        {
          "name": "stdout",
          "output_type": "stream",
          "text": [
            "{'delicious': 4, 'satisfied': 4, 'fantastic': 4, 'hooked': 4, 'continue': 4, 'beat': 4, 'highly': 4, 'excellent': 4, 'outstanding': 4, 'perfect': 4, 'perfectly': 4, 'skeptical': 4, 'pleased': 4, 'amazing': 4, 'pleasantly': 4, 'quick': 4, 'surprised': 4, 'bill': 4, 'yummy': 4, 'helped': 4, 'common': 4, 'wonderful': 4, 'craving': 4, 'best': 4, 'ask': 4, 'happy': 4, 'addicted': 4, 'fun': 4, 'refreshing': 4, 'worry': 4, 'fabulous': 4, 'lol': 4, 'thank': 4, 'terrific': 4, 'addictive': 4, 'enjoys': 4, 'great': 4, 'yum': 4, 'easy': 4, 'reasonable': 4, 'bonus': 4, 'lovely': 4, 'awesome': 4, 'admit': 4, 'tasty': 4, 'unique': 4, 'sandwich': 4, 'lavazza': 4, 'initially': 4, 'breath': 4, 'anywhere': 4, 'morning': 4, 'incredible': 4, 'sometimes': 4, 'watching': 4, 'tired': 4, 'crunchy': 4, 'anyway': 4, 'helpful': 4, 'graham': 4, 'coat': 4, 'promptly': 4, 'overall': 4, 'easier': 4, 'winner': 4, 'evening': 4, 'crispy': 4, 'growing': 4, 'book': 4, 'satisfying': 4, 'depending': 4, 'delighted': 4, 'cranberry': 4, 'worried': 4, 'write': 4, 'staple': 4, 'fill': 4, 'awhile': 4, 'ahead': 4, 'mustard': 4, 'sister': 4, 'love': 4, 'smooth': 4, 'sample': 4, 'favorite': 4, 'edge': 4, 'lunch': 4, 'knew': 4, 'finished': 4, 'forward': 4, 'concern': 4, 'pleasant': 4, 'quickly': 4, 'homemade': 4, 'able': 4, 'cold': 4, 'loved': 4, 'mg': 4, 'sense': 4, 'without': 4, 'chose': 4, 'good': 4, 'senseo': 4, 'wait': 4, 'owner': 4, 'cool': 4, 'diabetic': 4, 'complaint': 4, 'aspartame': 4, 'mug': 4, 'exactly': 4, 'tub': 4, 'nice': 4, 'storage': 4, 'filled': 4, 'carry': 4, 'unlike': 4, 'charge': 4, 'cube': 4, 'improved': 4, 'sign': 4, 'compare': 4, 'digest': 4, 'delicate': 4, 'correct': 4, 'described': 4, 'sort': 4, 'regularly': 4, 'handy': 4, 'course': 4, '2011': 4, 'dessert': 4, 'prepared': 4, 'glad': 4, 'bird': 4, 'ready': 4, 'delight': 4, 'woman': 4, 'figure': 4, 'toast': 4, 'hit': 4, 'served': 4, 'pocket': 4, 'beautiful': 4, 'overly': 4, 'wrap': 4, 'limited': 4, 'winter': 4, 'thrilled': 4, 'man': 4, 'previous': 4, 'worked': 4, 'stock': 4, 'heaven': 4, 'buffalo': 4, 'age': 4, 'slight': 4, 'wrapped': 4, 'slice': 4, 'saved': 4, 'lover': 4, 'assortment': 4, 'huge': 4, 'straight': 4, 'exception': 4, 'program': 4, 'satisfy': 4, 'enjoyed': 4, 'provides': 4, 'rich': 4, 'posted': 4, 'bubble': 4, 'area': 4, 'suggested': 4, 'plan': 4, 'fast': 4, 'pricey': 4, 'law': 4, 'healthier': 4, 'kibble': 4, 'latte': 4, 'mom': 4, 'golden': 4, 'convenience': 4, 'drain': 4, 'forever': 4, 'walk': 4, 'grew': 4, 'iron': 4, 'others': 4, 'impressed': 4, 'tray': 4, 'party': 4, 'among': 4, 'adult': 4, 'knowing': 4, 'introduced': 4, 'yes': 4, 'layer': 4, 'future': 4, 'rinse': 4, 'always': 4, 'car': 4, 'right': 4, 'shelf': 4, 'salted': 4, 'country': 4, 'sun': 4, 'discovered': 4, '25': 4, 'afternoon': 4, 'purina': 4, 'carrying': 4, 'receiving': 4, 'bigger': 4, 'enjoying': 4, 'live': 4, 'benefit': 4, 'solution': 4, 'foil': 4, 'notice': 4, 'supply': 4, 'nutty': 4, 'impossible': -4, 'wonder': -4, 'fake': -4, 'couldn': -4, 'least': -4, 'realized': -4, 'jerky': -4, 'shopping': -4, 'seemed': -4, 'suck': -4, 'extremely': -4, 'bitter': -4, 'sticky': -4, '11': -4, 'putting': -4, 'old': -4, 'cardboard': -4, 'original': -4, 'ended': -4, 'today': -4, 'machine': -4, 'air': -4, 'double': -4, 'truffle': -4, 'however': -4, 'information': -4, 'walnut': -4, 'spend': -4, 'cute': -4, 'description': -4, 'cannot': -4, 'average': -4, 'idea': -4, 'not': -4, 'recent': -4, 'floor': -4, 'form': -4, 'fudge': -4, 'diarrhea': -4, 'process': -4, 'warehouse': -4, 'such': -4, 'lost': -4, 'wrote': -4, 'edible': -4, 'recall': -4, 'learned': -4, 'tin': -4, 'crap': -4, 'apricot': -4, 'bug': -4, 'didn': -4, 'nose': -4, 'powdered': -4, 'rated': -4, 'spring': -4, 'positive': -4, 'appears': -4, 'bully': -4, 'false': -4, 'term': -4, 'somewhere': -4, 'thin': -4, 'mouth': -4, 'needle': -4, 'guess': -4, 'doesn': -4, 'previously': -4, 'possibly': -4, 'google': -4, 'thought': -4, 'concentrate': -4, 'throw': -4, 'maybe': -4, '18': -4, 'frozen': -4, 'rather': -4, 'basically': -4, 'wanted': -4, 'design': -4, 'mushy': -4, 'considered': -4, 'might': -4, 'sick': -4, 'instead': -4, 'buck': -4, 'dont': -4, 'agree': -4, 'opened': -4, 'weird': -4, 'cane': -4, 'later': -4, 'thinking': -4, 'claim': -4, 'shocked': -4, 'including': -4, 'direction': -4, 'perhaps': -4, 'stuck': -4, 'rock': -4, 'outside': -4, 'avoid': -4, 'apart': -4, 'kernel': -4, 'lacking': -4, 'ten': -4, 'won': -4, 'okay': -4, 'ridiculous': -4, 'trash': -4, 'hated': -4, '13': -4, 'chemical': -4, 'junk': -4, 'garbage': -4, 'strange': -4, 'misleading': -4, 'barely': -4, 'setting': -4, 'marketing': -4, 'left': -4, 'instruction': -4, 'email': -4, 'called': -4, 'produced': -4, 'away': -4, 'mistake': -4, 'throwing': -4, 'finish': -4, 'kitten': -4, 'nothing': -4, 'loaf': -4, 'credit': -4, 'everywhere': -4, 'likely': -4, 'touch': -4, 'sticking': -4, 'died': -4, 'waste': -4, 'luck': -4, 'carton': -4, 'dirt': -4, 'cashew': -4, 'saying': -4, 'sounded': -4, 'nature': -4, 'gross': -4, 'fed': -4, 'assumed': -4, 'returned': -4, 'farm': -4, 'china': -4, 'nespresso': -4, 'walmart': -4, 'sucralose': -4, 'wouldn': -4, 'rest': -4, 'elsewhere': -4, 'wasted': -4, 'quantity': -4, 'expired': -4, 'vendor': -4, 'smelled': -4, 'serious': -4, 'neither': -4, 'odd': -4, 'weren': -4, 'melted': -4, 'effort': -4, 'rip': -4, 'beyond': -4, 'lack': -4, 'changed': -4, 'unless': -4, 'unpleasant': -4, 'clearly': -4, 'pas': -4, 'return': -4, 'money': -4, 'hoping': -4, 'followed': -4, 'excited': -4, 'nasty': -4, 'bland': -4, 'ruined': -4, 'sorry': -4, 'mold': -4, 'watery': -4, 'consumer': -4, 'hardly': -4, 'weak': -4, 'stale': -4, 'unfortunately': -4, 'disappointed': -4, 'earth': -4, 'burnt': -4, 'sad': -4, 'terrible': -4, 'horrible': -4, 'poor': -4, 'inedible': -4, 'overpriced': -4, 'beware': -4, 'shame': -4, 'threw': -4, 'tasteless': -4, 'disgusting': -4, 'worse': -4, 'refund': -4, 'returning': -4, 'awful': -4, 'yuck': -4, 'disappointment': -4, 'worst': -4, 'disappointing': -4}\n"
          ]
        }
      ],
      "source": [
        "import json\n",
        "\n",
        "tf = open(filepath+\"dizionario/Dizionario_cibo.json\", \"r\")\n",
        "new_words = json.load(tf)\n",
        "print(new_words)"
      ]
    },
    {
      "cell_type": "markdown",
      "metadata": {
        "id": "hcAKtnzUuKmG"
      },
      "source": [
        "# Dataset extraction"
      ]
    },
    {
      "cell_type": "code",
      "execution_count": null,
      "metadata": {
        "colab": {
          "base_uri": "https://localhost:8080/",
          "height": 424
        },
        "id": "uKTQTMSrKW5W",
        "outputId": "2a34bd50-cca5-44e9-ff9f-3e7719e6c201"
      },
      "outputs": [
        {
          "data": {
            "text/html": [
              "\n",
              "  <div id=\"df-ea35b664-83e8-41a1-9b4f-b80612e9e4cc\">\n",
              "    <div class=\"colab-df-container\">\n",
              "      <div>\n",
              "<style scoped>\n",
              "    .dataframe tbody tr th:only-of-type {\n",
              "        vertical-align: middle;\n",
              "    }\n",
              "\n",
              "    .dataframe tbody tr th {\n",
              "        vertical-align: top;\n",
              "    }\n",
              "\n",
              "    .dataframe thead th {\n",
              "        text-align: right;\n",
              "    }\n",
              "</style>\n",
              "<table border=\"1\" class=\"dataframe\">\n",
              "  <thead>\n",
              "    <tr style=\"text-align: right;\">\n",
              "      <th></th>\n",
              "      <th>Tipo</th>\n",
              "      <th>Score</th>\n",
              "      <th>Text</th>\n",
              "    </tr>\n",
              "  </thead>\n",
              "  <tbody>\n",
              "    <tr>\n",
              "      <th>0</th>\n",
              "      <td>Cibo</td>\n",
              "      <td>Positive</td>\n",
              "      <td>This is our all-time favorite tea especially f...</td>\n",
              "    </tr>\n",
              "    <tr>\n",
              "      <th>1</th>\n",
              "      <td>Cibo</td>\n",
              "      <td>Positive</td>\n",
              "      <td>This is by far my favorite tea, You can't get ...</td>\n",
              "    </tr>\n",
              "    <tr>\n",
              "      <th>2</th>\n",
              "      <td>Cibo</td>\n",
              "      <td>Positive</td>\n",
              "      <td>Compared to similar products, this stuff taste...</td>\n",
              "    </tr>\n",
              "    <tr>\n",
              "      <th>3</th>\n",
              "      <td>Cibo</td>\n",
              "      <td>Negative</td>\n",
              "      <td>BEWARE! This candy is made with Malitol, a sug...</td>\n",
              "    </tr>\n",
              "    <tr>\n",
              "      <th>4</th>\n",
              "      <td>Cibo</td>\n",
              "      <td>Negative</td>\n",
              "      <td>The selling point of this shampoo is that it d...</td>\n",
              "    </tr>\n",
              "    <tr>\n",
              "      <th>...</th>\n",
              "      <td>...</td>\n",
              "      <td>...</td>\n",
              "      <td>...</td>\n",
              "    </tr>\n",
              "    <tr>\n",
              "      <th>20585</th>\n",
              "      <td>Cibo</td>\n",
              "      <td>Positive</td>\n",
              "      <td>I ordered based on the reviews. I am glad I di...</td>\n",
              "    </tr>\n",
              "    <tr>\n",
              "      <th>20586</th>\n",
              "      <td>Cibo</td>\n",
              "      <td>Positive</td>\n",
              "      <td>The dragees are just as shiny and pretty as th...</td>\n",
              "    </tr>\n",
              "    <tr>\n",
              "      <th>20587</th>\n",
              "      <td>Cibo</td>\n",
              "      <td>Positive</td>\n",
              "      <td>I like this product, and will order it online ...</td>\n",
              "    </tr>\n",
              "    <tr>\n",
              "      <th>20588</th>\n",
              "      <td>Cibo</td>\n",
              "      <td>Positive</td>\n",
              "      <td>Although you can't make a loaf of bread with t...</td>\n",
              "    </tr>\n",
              "    <tr>\n",
              "      <th>20589</th>\n",
              "      <td>Cibo</td>\n",
              "      <td>Positive</td>\n",
              "      <td>I was just going to reorder the \"Bit-O-Honey\" ...</td>\n",
              "    </tr>\n",
              "  </tbody>\n",
              "</table>\n",
              "<p>20590 rows × 3 columns</p>\n",
              "</div>\n",
              "      <button class=\"colab-df-convert\" onclick=\"convertToInteractive('df-ea35b664-83e8-41a1-9b4f-b80612e9e4cc')\"\n",
              "              title=\"Convert this dataframe to an interactive table.\"\n",
              "              style=\"display:none;\">\n",
              "        \n",
              "  <svg xmlns=\"http://www.w3.org/2000/svg\" height=\"24px\"viewBox=\"0 0 24 24\"\n",
              "       width=\"24px\">\n",
              "    <path d=\"M0 0h24v24H0V0z\" fill=\"none\"/>\n",
              "    <path d=\"M18.56 5.44l.94 2.06.94-2.06 2.06-.94-2.06-.94-.94-2.06-.94 2.06-2.06.94zm-11 1L8.5 8.5l.94-2.06 2.06-.94-2.06-.94L8.5 2.5l-.94 2.06-2.06.94zm10 10l.94 2.06.94-2.06 2.06-.94-2.06-.94-.94-2.06-.94 2.06-2.06.94z\"/><path d=\"M17.41 7.96l-1.37-1.37c-.4-.4-.92-.59-1.43-.59-.52 0-1.04.2-1.43.59L10.3 9.45l-7.72 7.72c-.78.78-.78 2.05 0 2.83L4 21.41c.39.39.9.59 1.41.59.51 0 1.02-.2 1.41-.59l7.78-7.78 2.81-2.81c.8-.78.8-2.07 0-2.86zM5.41 20L4 18.59l7.72-7.72 1.47 1.35L5.41 20z\"/>\n",
              "  </svg>\n",
              "      </button>\n",
              "      \n",
              "  <style>\n",
              "    .colab-df-container {\n",
              "      display:flex;\n",
              "      flex-wrap:wrap;\n",
              "      gap: 12px;\n",
              "    }\n",
              "\n",
              "    .colab-df-convert {\n",
              "      background-color: #E8F0FE;\n",
              "      border: none;\n",
              "      border-radius: 50%;\n",
              "      cursor: pointer;\n",
              "      display: none;\n",
              "      fill: #1967D2;\n",
              "      height: 32px;\n",
              "      padding: 0 0 0 0;\n",
              "      width: 32px;\n",
              "    }\n",
              "\n",
              "    .colab-df-convert:hover {\n",
              "      background-color: #E2EBFA;\n",
              "      box-shadow: 0px 1px 2px rgba(60, 64, 67, 0.3), 0px 1px 3px 1px rgba(60, 64, 67, 0.15);\n",
              "      fill: #174EA6;\n",
              "    }\n",
              "\n",
              "    [theme=dark] .colab-df-convert {\n",
              "      background-color: #3B4455;\n",
              "      fill: #D2E3FC;\n",
              "    }\n",
              "\n",
              "    [theme=dark] .colab-df-convert:hover {\n",
              "      background-color: #434B5C;\n",
              "      box-shadow: 0px 1px 3px 1px rgba(0, 0, 0, 0.15);\n",
              "      filter: drop-shadow(0px 1px 2px rgba(0, 0, 0, 0.3));\n",
              "      fill: #FFFFFF;\n",
              "    }\n",
              "  </style>\n",
              "\n",
              "      <script>\n",
              "        const buttonEl =\n",
              "          document.querySelector('#df-ea35b664-83e8-41a1-9b4f-b80612e9e4cc button.colab-df-convert');\n",
              "        buttonEl.style.display =\n",
              "          google.colab.kernel.accessAllowed ? 'block' : 'none';\n",
              "\n",
              "        async function convertToInteractive(key) {\n",
              "          const element = document.querySelector('#df-ea35b664-83e8-41a1-9b4f-b80612e9e4cc');\n",
              "          const dataTable =\n",
              "            await google.colab.kernel.invokeFunction('convertToInteractive',\n",
              "                                                     [key], {});\n",
              "          if (!dataTable) return;\n",
              "\n",
              "          const docLinkHtml = 'Like what you see? Visit the ' +\n",
              "            '<a target=\"_blank\" href=https://colab.research.google.com/notebooks/data_table.ipynb>data table notebook</a>'\n",
              "            + ' to learn more about interactive tables.';\n",
              "          element.innerHTML = '';\n",
              "          dataTable['output_type'] = 'display_data';\n",
              "          await google.colab.output.renderOutput(dataTable, element);\n",
              "          const docLink = document.createElement('div');\n",
              "          docLink.innerHTML = docLinkHtml;\n",
              "          element.appendChild(docLink);\n",
              "        }\n",
              "      </script>\n",
              "    </div>\n",
              "  </div>\n",
              "  "
            ],
            "text/plain": [
              "       Tipo     Score                                               Text\n",
              "0      Cibo  Positive  This is our all-time favorite tea especially f...\n",
              "1      Cibo  Positive  This is by far my favorite tea, You can't get ...\n",
              "2      Cibo  Positive  Compared to similar products, this stuff taste...\n",
              "3      Cibo  Negative  BEWARE! This candy is made with Malitol, a sug...\n",
              "4      Cibo  Negative  The selling point of this shampoo is that it d...\n",
              "...     ...       ...                                                ...\n",
              "20585  Cibo  Positive  I ordered based on the reviews. I am glad I di...\n",
              "20586  Cibo  Positive  The dragees are just as shiny and pretty as th...\n",
              "20587  Cibo  Positive  I like this product, and will order it online ...\n",
              "20588  Cibo  Positive  Although you can't make a loaf of bread with t...\n",
              "20589  Cibo  Positive  I was just going to reorder the \"Bit-O-Honey\" ...\n",
              "\n",
              "[20590 rows x 3 columns]"
            ]
          },
          "execution_count": 92,
          "metadata": {},
          "output_type": "execute_result"
        }
      ],
      "source": [
        "import pandas as pd\n",
        "df = pd.read_excel(filepath+'data/Cibo_learning.xlsx')\n",
        "df"
      ]
    },
    {
      "cell_type": "markdown",
      "metadata": {
        "id": "V3uw2xaluQGk"
      },
      "source": [
        "# Using Vader\n",
        "## Normal vs vadernew"
      ]
    },
    {
      "cell_type": "code",
      "execution_count": null,
      "metadata": {
        "colab": {
          "base_uri": "https://localhost:8080/"
        },
        "id": "n_cBgKy5KdJV",
        "outputId": "89dde4d5-4ecd-4c59-a4e1-e106ce290240"
      },
      "outputs": [
        {
          "name": "stdout",
          "output_type": "stream",
          "text": [
            "[nltk_data] Downloading package vader_lexicon to /root/nltk_data...\n",
            "[nltk_data]   Package vader_lexicon is already up-to-date!\n"
          ]
        }
      ],
      "source": [
        "import nltk\n",
        "from nltk.sentiment.vader import SentimentIntensityAnalyzer\n",
        "nltk.download('vader_lexicon')\n",
        "\n",
        "#Vader\n",
        "analyzer = SentimentIntensityAnalyzer()\n",
        "df['scores'] = df['Text'].apply(lambda review: analyzer.polarity_scores(review))\n",
        "df['compound']  = df['scores'].apply(lambda score_dict: score_dict['compound'])\n",
        "\n",
        "#Vader mio\n",
        "SIA = SentimentIntensityAnalyzer()\n",
        "SIA.lexicon.update(new_words)\n",
        "df['scores2'] = df['Text'].apply(lambda review: SIA.polarity_scores(review))\n",
        "df['compound2']  = df['scores2'].apply(lambda score_dict: score_dict['compound'])"
      ]
    },
    {
      "cell_type": "code",
      "execution_count": null,
      "metadata": {
        "colab": {
          "base_uri": "https://localhost:8080/",
          "height": 424
        },
        "id": "2B48zchTKtZs",
        "outputId": "6d63338b-95a0-4c30-a2ac-2683129e6080"
      },
      "outputs": [
        {
          "data": {
            "text/html": [
              "\n",
              "  <div id=\"df-13761022-a450-46e9-b75a-8eca35c407c9\">\n",
              "    <div class=\"colab-df-container\">\n",
              "      <div>\n",
              "<style scoped>\n",
              "    .dataframe tbody tr th:only-of-type {\n",
              "        vertical-align: middle;\n",
              "    }\n",
              "\n",
              "    .dataframe tbody tr th {\n",
              "        vertical-align: top;\n",
              "    }\n",
              "\n",
              "    .dataframe thead th {\n",
              "        text-align: right;\n",
              "    }\n",
              "</style>\n",
              "<table border=\"1\" class=\"dataframe\">\n",
              "  <thead>\n",
              "    <tr style=\"text-align: right;\">\n",
              "      <th></th>\n",
              "      <th>Score</th>\n",
              "      <th>Text</th>\n",
              "      <th>Vader</th>\n",
              "      <th>Vader_new</th>\n",
              "    </tr>\n",
              "  </thead>\n",
              "  <tbody>\n",
              "    <tr>\n",
              "      <th>0</th>\n",
              "      <td>Positive</td>\n",
              "      <td>This is our all-time favorite tea especially f...</td>\n",
              "      <td>Positive</td>\n",
              "      <td>Positive</td>\n",
              "    </tr>\n",
              "    <tr>\n",
              "      <th>1</th>\n",
              "      <td>Positive</td>\n",
              "      <td>This is by far my favorite tea, You can't get ...</td>\n",
              "      <td>Positive</td>\n",
              "      <td>Negative</td>\n",
              "    </tr>\n",
              "    <tr>\n",
              "      <th>2</th>\n",
              "      <td>Positive</td>\n",
              "      <td>Compared to similar products, this stuff taste...</td>\n",
              "      <td>Positive</td>\n",
              "      <td>Positive</td>\n",
              "    </tr>\n",
              "    <tr>\n",
              "      <th>3</th>\n",
              "      <td>Negative</td>\n",
              "      <td>BEWARE! This candy is made with Malitol, a sug...</td>\n",
              "      <td>Negative</td>\n",
              "      <td>Negative</td>\n",
              "    </tr>\n",
              "    <tr>\n",
              "      <th>4</th>\n",
              "      <td>Negative</td>\n",
              "      <td>The selling point of this shampoo is that it d...</td>\n",
              "      <td>Positive</td>\n",
              "      <td>Negative</td>\n",
              "    </tr>\n",
              "    <tr>\n",
              "      <th>...</th>\n",
              "      <td>...</td>\n",
              "      <td>...</td>\n",
              "      <td>...</td>\n",
              "      <td>...</td>\n",
              "    </tr>\n",
              "    <tr>\n",
              "      <th>20585</th>\n",
              "      <td>Positive</td>\n",
              "      <td>I ordered based on the reviews. I am glad I di...</td>\n",
              "      <td>Positive</td>\n",
              "      <td>Positive</td>\n",
              "    </tr>\n",
              "    <tr>\n",
              "      <th>20586</th>\n",
              "      <td>Positive</td>\n",
              "      <td>The dragees are just as shiny and pretty as th...</td>\n",
              "      <td>Positive</td>\n",
              "      <td>Positive</td>\n",
              "    </tr>\n",
              "    <tr>\n",
              "      <th>20587</th>\n",
              "      <td>Positive</td>\n",
              "      <td>I like this product, and will order it online ...</td>\n",
              "      <td>Positive</td>\n",
              "      <td>Positive</td>\n",
              "    </tr>\n",
              "    <tr>\n",
              "      <th>20588</th>\n",
              "      <td>Positive</td>\n",
              "      <td>Although you can't make a loaf of bread with t...</td>\n",
              "      <td>Positive</td>\n",
              "      <td>Positive</td>\n",
              "    </tr>\n",
              "    <tr>\n",
              "      <th>20589</th>\n",
              "      <td>Positive</td>\n",
              "      <td>I was just going to reorder the \"Bit-O-Honey\" ...</td>\n",
              "      <td>Positive</td>\n",
              "      <td>Positive</td>\n",
              "    </tr>\n",
              "  </tbody>\n",
              "</table>\n",
              "<p>20590 rows × 4 columns</p>\n",
              "</div>\n",
              "      <button class=\"colab-df-convert\" onclick=\"convertToInteractive('df-13761022-a450-46e9-b75a-8eca35c407c9')\"\n",
              "              title=\"Convert this dataframe to an interactive table.\"\n",
              "              style=\"display:none;\">\n",
              "        \n",
              "  <svg xmlns=\"http://www.w3.org/2000/svg\" height=\"24px\"viewBox=\"0 0 24 24\"\n",
              "       width=\"24px\">\n",
              "    <path d=\"M0 0h24v24H0V0z\" fill=\"none\"/>\n",
              "    <path d=\"M18.56 5.44l.94 2.06.94-2.06 2.06-.94-2.06-.94-.94-2.06-.94 2.06-2.06.94zm-11 1L8.5 8.5l.94-2.06 2.06-.94-2.06-.94L8.5 2.5l-.94 2.06-2.06.94zm10 10l.94 2.06.94-2.06 2.06-.94-2.06-.94-.94-2.06-.94 2.06-2.06.94z\"/><path d=\"M17.41 7.96l-1.37-1.37c-.4-.4-.92-.59-1.43-.59-.52 0-1.04.2-1.43.59L10.3 9.45l-7.72 7.72c-.78.78-.78 2.05 0 2.83L4 21.41c.39.39.9.59 1.41.59.51 0 1.02-.2 1.41-.59l7.78-7.78 2.81-2.81c.8-.78.8-2.07 0-2.86zM5.41 20L4 18.59l7.72-7.72 1.47 1.35L5.41 20z\"/>\n",
              "  </svg>\n",
              "      </button>\n",
              "      \n",
              "  <style>\n",
              "    .colab-df-container {\n",
              "      display:flex;\n",
              "      flex-wrap:wrap;\n",
              "      gap: 12px;\n",
              "    }\n",
              "\n",
              "    .colab-df-convert {\n",
              "      background-color: #E8F0FE;\n",
              "      border: none;\n",
              "      border-radius: 50%;\n",
              "      cursor: pointer;\n",
              "      display: none;\n",
              "      fill: #1967D2;\n",
              "      height: 32px;\n",
              "      padding: 0 0 0 0;\n",
              "      width: 32px;\n",
              "    }\n",
              "\n",
              "    .colab-df-convert:hover {\n",
              "      background-color: #E2EBFA;\n",
              "      box-shadow: 0px 1px 2px rgba(60, 64, 67, 0.3), 0px 1px 3px 1px rgba(60, 64, 67, 0.15);\n",
              "      fill: #174EA6;\n",
              "    }\n",
              "\n",
              "    [theme=dark] .colab-df-convert {\n",
              "      background-color: #3B4455;\n",
              "      fill: #D2E3FC;\n",
              "    }\n",
              "\n",
              "    [theme=dark] .colab-df-convert:hover {\n",
              "      background-color: #434B5C;\n",
              "      box-shadow: 0px 1px 3px 1px rgba(0, 0, 0, 0.15);\n",
              "      filter: drop-shadow(0px 1px 2px rgba(0, 0, 0, 0.3));\n",
              "      fill: #FFFFFF;\n",
              "    }\n",
              "  </style>\n",
              "\n",
              "      <script>\n",
              "        const buttonEl =\n",
              "          document.querySelector('#df-13761022-a450-46e9-b75a-8eca35c407c9 button.colab-df-convert');\n",
              "        buttonEl.style.display =\n",
              "          google.colab.kernel.accessAllowed ? 'block' : 'none';\n",
              "\n",
              "        async function convertToInteractive(key) {\n",
              "          const element = document.querySelector('#df-13761022-a450-46e9-b75a-8eca35c407c9');\n",
              "          const dataTable =\n",
              "            await google.colab.kernel.invokeFunction('convertToInteractive',\n",
              "                                                     [key], {});\n",
              "          if (!dataTable) return;\n",
              "\n",
              "          const docLinkHtml = 'Like what you see? Visit the ' +\n",
              "            '<a target=\"_blank\" href=https://colab.research.google.com/notebooks/data_table.ipynb>data table notebook</a>'\n",
              "            + ' to learn more about interactive tables.';\n",
              "          element.innerHTML = '';\n",
              "          dataTable['output_type'] = 'display_data';\n",
              "          await google.colab.output.renderOutput(dataTable, element);\n",
              "          const docLink = document.createElement('div');\n",
              "          docLink.innerHTML = docLinkHtml;\n",
              "          element.appendChild(docLink);\n",
              "        }\n",
              "      </script>\n",
              "    </div>\n",
              "  </div>\n",
              "  "
            ],
            "text/plain": [
              "          Score                                               Text     Vader  \\\n",
              "0      Positive  This is our all-time favorite tea especially f...  Positive   \n",
              "1      Positive  This is by far my favorite tea, You can't get ...  Positive   \n",
              "2      Positive  Compared to similar products, this stuff taste...  Positive   \n",
              "3      Negative  BEWARE! This candy is made with Malitol, a sug...  Negative   \n",
              "4      Negative  The selling point of this shampoo is that it d...  Positive   \n",
              "...         ...                                                ...       ...   \n",
              "20585  Positive  I ordered based on the reviews. I am glad I di...  Positive   \n",
              "20586  Positive  The dragees are just as shiny and pretty as th...  Positive   \n",
              "20587  Positive  I like this product, and will order it online ...  Positive   \n",
              "20588  Positive  Although you can't make a loaf of bread with t...  Positive   \n",
              "20589  Positive  I was just going to reorder the \"Bit-O-Honey\" ...  Positive   \n",
              "\n",
              "      Vader_new  \n",
              "0      Positive  \n",
              "1      Negative  \n",
              "2      Positive  \n",
              "3      Negative  \n",
              "4      Negative  \n",
              "...         ...  \n",
              "20585  Positive  \n",
              "20586  Positive  \n",
              "20587  Positive  \n",
              "20588  Positive  \n",
              "20589  Positive  \n",
              "\n",
              "[20590 rows x 4 columns]"
            ]
          },
          "execution_count": 94,
          "metadata": {},
          "output_type": "execute_result"
        }
      ],
      "source": [
        "#Modifico compound, se maggiore di 0 sarà Positive, altrimenti Negative\n",
        "Fine = pd.DataFrame({'Score': df.Score,'Text': df.Text,'Vader': df.compound,'Vader_new': df.compound2})\n",
        "Fine['Vader'] = df['compound'].apply(lambda x: 'Positive' if x > 0 else 'Negative' )\n",
        "Fine['Vader_new'] = df['compound2'].apply(lambda x: 'Positive' if x > 0 else 'Negative' )\n",
        "Fine"
      ]
    },
    {
      "cell_type": "markdown",
      "metadata": {
        "id": "CLGNjqRgucQe"
      },
      "source": [
        "## evaluation between performances"
      ]
    },
    {
      "cell_type": "code",
      "execution_count": null,
      "metadata": {
        "colab": {
          "base_uri": "https://localhost:8080/"
        },
        "id": "ibLmvcCFKyXn",
        "outputId": "68445443-f3df-4fa9-cc89-3e550fd14524"
      },
      "outputs": [
        {
          "name": "stdout",
          "output_type": "stream",
          "text": [
            "Percentuale tra i due vader\n",
            "Vader 72.12 %\n",
            "Vader Nuovo 81.86 %\n"
          ]
        }
      ],
      "source": [
        "v=0\n",
        "vn=0\n",
        "for i in range(len(Fine)):\n",
        "  if Fine.Score[i]==Fine.Vader[i]:\n",
        "    v+=1\n",
        "  if Fine.Score[i]==Fine.Vader_new[i]:\n",
        "    vn+=1\n",
        "\n",
        "#vn/len(Fine)\n",
        "print(\"Percentuale tra i due vader\")\n",
        "print(\"Vader\",round((v/len(Fine)*100),2),\"%\")\n",
        "print(\"vadernew\",round(((vn/len(Fine))*100),2),\"%\")"
      ]
    },
    {
      "cell_type": "markdown",
      "metadata": {
        "id": "WCdlzaEYiz2X"
      },
      "source": [
        "# Saving the new dictionary"
      ]
    },
    {
      "cell_type": "code",
      "execution_count": null,
      "metadata": {
        "id": "P0Xx0zB9i_i9"
      },
      "outputs": [],
      "source": [
        "\n",
        "f = open(filepath+\"vader_new/vader_lexicon_cibo.txt\", \"w\")\n",
        "for k, v in SIA.lexicon.items():\n",
        "    f.write(str(k) + '\\t'+ str(v) + '\\n')\n",
        "f.close()\n"
      ]
    }
  ],
  "metadata": {
    "colab": {
      "collapsed_sections": [],
      "name": "Valutazione_vader.ipynb",
      "provenance": []
    },
    "kernelspec": {
      "display_name": "Python 3",
      "name": "python3"
    },
    "language_info": {
      "name": "python"
    }
  },
  "nbformat": 4,
  "nbformat_minor": 0
}
